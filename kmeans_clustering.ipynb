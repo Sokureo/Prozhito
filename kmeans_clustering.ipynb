{
 "cells": [
  {
   "cell_type": "markdown",
   "metadata": {},
   "source": [
    "# Чтение данных"
   ]
  },
  {
   "cell_type": "code",
   "execution_count": 1,
   "metadata": {
    "collapsed": true
   },
   "outputs": [],
   "source": [
    "import pandas as pd\n",
    "import numpy as np"
   ]
  },
  {
   "cell_type": "code",
   "execution_count": 2,
   "metadata": {
    "collapsed": true
   },
   "outputs": [],
   "source": [
    "import json"
   ]
  },
  {
   "cell_type": "code",
   "execution_count": 3,
   "metadata": {
    "collapsed": true
   },
   "outputs": [],
   "source": [
    "import warnings\n",
    "import warnings\n",
    "warnings.filterwarnings('ignore', category=Warning)"
   ]
  },
  {
   "cell_type": "code",
   "execution_count": 4,
   "metadata": {},
   "outputs": [
    {
     "data": {
      "text/html": [
       "<div>\n",
       "<style>\n",
       "    .dataframe thead tr:only-child th {\n",
       "        text-align: right;\n",
       "    }\n",
       "\n",
       "    .dataframe thead th {\n",
       "        text-align: left;\n",
       "    }\n",
       "\n",
       "    .dataframe tbody tr th {\n",
       "        vertical-align: top;\n",
       "    }\n",
       "</style>\n",
       "<table border=\"1\" class=\"dataframe\">\n",
       "  <thead>\n",
       "    <tr style=\"text-align: right;\">\n",
       "      <th></th>\n",
       "      <th>tag</th>\n",
       "      <th>name</th>\n",
       "      <th>type</th>\n",
       "    </tr>\n",
       "  </thead>\n",
       "  <tbody>\n",
       "    <tr>\n",
       "      <th>151</th>\n",
       "      <td>\"179\"</td>\n",
       "      <td>\"О войне\"</td>\n",
       "      <td>\"1\"</td>\n",
       "    </tr>\n",
       "    <tr>\n",
       "      <th>152</th>\n",
       "      <td>\"180\"</td>\n",
       "      <td>\"военный\"</td>\n",
       "      <td>\"1\"</td>\n",
       "    </tr>\n",
       "    <tr>\n",
       "      <th>153</th>\n",
       "      <td>\"181\"</td>\n",
       "      <td>\"заграничная поездка\"</td>\n",
       "      <td>\"1\"</td>\n",
       "    </tr>\n",
       "    <tr>\n",
       "      <th>154</th>\n",
       "      <td>\"182\"</td>\n",
       "      <td>\"блокада\"</td>\n",
       "      <td>\"1\"</td>\n",
       "    </tr>\n",
       "    <tr>\n",
       "      <th>155</th>\n",
       "      <td>\"183\"</td>\n",
       "      <td>\"тыл\"</td>\n",
       "      <td>\"1\"</td>\n",
       "    </tr>\n",
       "    <tr>\n",
       "      <th>156</th>\n",
       "      <td>\"184\"</td>\n",
       "      <td>\"фронтовой\"</td>\n",
       "      <td>\"1\"</td>\n",
       "    </tr>\n",
       "    <tr>\n",
       "      <th>157</th>\n",
       "      <td>\"185\"</td>\n",
       "      <td>\"депортация\"</td>\n",
       "      <td>\"1\"</td>\n",
       "    </tr>\n",
       "    <tr>\n",
       "      <th>158</th>\n",
       "      <td>\"186\"</td>\n",
       "      <td>\"детский\"</td>\n",
       "      <td>\"1\"</td>\n",
       "    </tr>\n",
       "    <tr>\n",
       "      <th>159</th>\n",
       "      <td>\"187\"</td>\n",
       "      <td>\"профессиональный\"</td>\n",
       "      <td>\"1\"</td>\n",
       "    </tr>\n",
       "    <tr>\n",
       "      <th>160</th>\n",
       "      <td>\"188\"</td>\n",
       "      <td>\"путешествие\"</td>\n",
       "      <td>\"1\"</td>\n",
       "    </tr>\n",
       "  </tbody>\n",
       "</table>\n",
       "</div>"
      ],
      "text/plain": [
       "       tag                   name type\n",
       "151  \"179\"              \"О войне\"  \"1\"\n",
       "152  \"180\"              \"военный\"  \"1\"\n",
       "153  \"181\"  \"заграничная поездка\"  \"1\"\n",
       "154  \"182\"              \"блокада\"  \"1\"\n",
       "155  \"183\"                  \"тыл\"  \"1\"\n",
       "156  \"184\"            \"фронтовой\"  \"1\"\n",
       "157  \"185\"           \"депортация\"  \"1\"\n",
       "158  \"186\"              \"детский\"  \"1\"\n",
       "159  \"187\"     \"профессиональный\"  \"1\"\n",
       "160  \"188\"          \"путешествие\"  \"1\""
      ]
     },
     "execution_count": 4,
     "metadata": {},
     "output_type": "execute_result"
    }
   ],
   "source": [
    "tags = pd.read_csv('data/tags.csv', sep=',#', names=['tag', 'name', 'type'])\n",
    "tags = tags.loc[tags['type'] == '\"1\"']\n",
    "tags.head(10)"
   ]
  },
  {
   "cell_type": "code",
   "execution_count": 5,
   "metadata": {
    "collapsed": true
   },
   "outputs": [],
   "source": [
    "# список тем типа 1\n",
    "themes = list(tags['tag'])"
   ]
  },
  {
   "cell_type": "code",
   "execution_count": 6,
   "metadata": {},
   "outputs": [
    {
     "data": {
      "text/html": [
       "<div>\n",
       "<style>\n",
       "    .dataframe thead tr:only-child th {\n",
       "        text-align: right;\n",
       "    }\n",
       "\n",
       "    .dataframe thead th {\n",
       "        text-align: left;\n",
       "    }\n",
       "\n",
       "    .dataframe tbody tr th {\n",
       "        vertical-align: top;\n",
       "    }\n",
       "</style>\n",
       "<table border=\"1\" class=\"dataframe\">\n",
       "  <thead>\n",
       "    <tr style=\"text-align: right;\">\n",
       "      <th></th>\n",
       "      <th>0</th>\n",
       "      <th>1</th>\n",
       "      <th>2</th>\n",
       "      <th>3</th>\n",
       "      <th>4</th>\n",
       "      <th>5</th>\n",
       "      <th>6</th>\n",
       "      <th>7</th>\n",
       "      <th>8</th>\n",
       "      <th>9</th>\n",
       "      <th>10</th>\n",
       "    </tr>\n",
       "  </thead>\n",
       "  <tbody>\n",
       "    <tr>\n",
       "      <th>0</th>\n",
       "      <td>\"3\"</td>\n",
       "      <td>\"4\"</td>\n",
       "      <td>\"published\"</td>\n",
       "      <td>\"329\"</td>\n",
       "      <td>\"1932-09-28\"</td>\n",
       "      <td>\"1937-04-30\"</td>\n",
       "      <td>NaN</td>\n",
       "      <td>\"0\"</td>\n",
       "      <td>\"0\"</td>\n",
       "      <td>\"0\"</td>\n",
       "      <td>\"1425446154\"</td>\n",
       "    </tr>\n",
       "    <tr>\n",
       "      <th>1</th>\n",
       "      <td>\"4\"</td>\n",
       "      <td>\"5\"</td>\n",
       "      <td>\"published\"</td>\n",
       "      <td>\"356\"</td>\n",
       "      <td>\"1942-09-09\"</td>\n",
       "      <td>\"1944-01-27\"</td>\n",
       "      <td>NaN</td>\n",
       "      <td>\"0\"</td>\n",
       "      <td>\"0\"</td>\n",
       "      <td>\"1474033861\"</td>\n",
       "      <td>\"1425446228\"</td>\n",
       "    </tr>\n",
       "    <tr>\n",
       "      <th>2</th>\n",
       "      <td>\"5\"</td>\n",
       "      <td>\"6\"</td>\n",
       "      <td>\"published\"</td>\n",
       "      <td>\"28\"</td>\n",
       "      <td>\"1943-01-31\"</td>\n",
       "      <td>\"1951-07-03\"</td>\n",
       "      <td>NaN</td>\n",
       "      <td>\"0\"</td>\n",
       "      <td>\"0\"</td>\n",
       "      <td>\"0\"</td>\n",
       "      <td>\"1425446370\"</td>\n",
       "    </tr>\n",
       "    <tr>\n",
       "      <th>3</th>\n",
       "      <td>\"6\"</td>\n",
       "      <td>\"7\"</td>\n",
       "      <td>\"published\"</td>\n",
       "      <td>\"65\"</td>\n",
       "      <td>\"0000-00-00\"</td>\n",
       "      <td>\"0000-00-00\"</td>\n",
       "      <td>NaN</td>\n",
       "      <td>\"0\"</td>\n",
       "      <td>\"0\"</td>\n",
       "      <td>\"0\"</td>\n",
       "      <td>\"1425446645\"</td>\n",
       "    </tr>\n",
       "    <tr>\n",
       "      <th>4</th>\n",
       "      <td>\"8\"</td>\n",
       "      <td>\"11\"</td>\n",
       "      <td>\"published\"</td>\n",
       "      <td>\"804\"</td>\n",
       "      <td>\"1943-08-04\"</td>\n",
       "      <td>\"1961-12-31\"</td>\n",
       "      <td>NaN</td>\n",
       "      <td>\"0\"</td>\n",
       "      <td>\"0\"</td>\n",
       "      <td>\"0\"</td>\n",
       "      <td>\"1425487703\"</td>\n",
       "    </tr>\n",
       "  </tbody>\n",
       "</table>\n",
       "</div>"
      ],
      "text/plain": [
       "    0     1            2      3             4             5   6    7    8   \\\n",
       "0  \"3\"   \"4\"  \"published\"  \"329\"  \"1932-09-28\"  \"1937-04-30\" NaN  \"0\"  \"0\"   \n",
       "1  \"4\"   \"5\"  \"published\"  \"356\"  \"1942-09-09\"  \"1944-01-27\" NaN  \"0\"  \"0\"   \n",
       "2  \"5\"   \"6\"  \"published\"   \"28\"  \"1943-01-31\"  \"1951-07-03\" NaN  \"0\"  \"0\"   \n",
       "3  \"6\"   \"7\"  \"published\"   \"65\"  \"0000-00-00\"  \"0000-00-00\" NaN  \"0\"  \"0\"   \n",
       "4  \"8\"  \"11\"  \"published\"  \"804\"  \"1943-08-04\"  \"1961-12-31\" NaN  \"0\"  \"0\"   \n",
       "\n",
       "             9             10  \n",
       "0           \"0\"  \"1425446154\"  \n",
       "1  \"1474033861\"  \"1425446228\"  \n",
       "2           \"0\"  \"1425446370\"  \n",
       "3           \"0\"  \"1425446645\"  \n",
       "4           \"0\"  \"1425487703\"  "
      ]
     },
     "execution_count": 6,
     "metadata": {},
     "output_type": "execute_result"
    }
   ],
   "source": [
    "diaries = pd.read_csv('data/diary.csv', sep=',#', header=None)\n",
    "diaries.head()"
   ]
  },
  {
   "cell_type": "code",
   "execution_count": 7,
   "metadata": {},
   "outputs": [
    {
     "data": {
      "text/html": [
       "<div>\n",
       "<style>\n",
       "    .dataframe thead tr:only-child th {\n",
       "        text-align: right;\n",
       "    }\n",
       "\n",
       "    .dataframe thead th {\n",
       "        text-align: left;\n",
       "    }\n",
       "\n",
       "    .dataframe tbody tr th {\n",
       "        vertical-align: top;\n",
       "    }\n",
       "</style>\n",
       "<table border=\"1\" class=\"dataframe\">\n",
       "  <thead>\n",
       "    <tr style=\"text-align: right;\">\n",
       "      <th></th>\n",
       "      <th>diary</th>\n",
       "      <th>tag</th>\n",
       "    </tr>\n",
       "  </thead>\n",
       "  <tbody>\n",
       "    <tr>\n",
       "      <th>0</th>\n",
       "      <td>\"3\"</td>\n",
       "      <td>\"181\"</td>\n",
       "    </tr>\n",
       "    <tr>\n",
       "      <th>1</th>\n",
       "      <td>\"3\"</td>\n",
       "      <td>\"328\"</td>\n",
       "    </tr>\n",
       "    <tr>\n",
       "      <th>2</th>\n",
       "      <td>\"4\"</td>\n",
       "      <td>\"180\"</td>\n",
       "    </tr>\n",
       "    <tr>\n",
       "      <th>3</th>\n",
       "      <td>\"4\"</td>\n",
       "      <td>\"184\"</td>\n",
       "    </tr>\n",
       "    <tr>\n",
       "      <th>4</th>\n",
       "      <td>\"8\"</td>\n",
       "      <td>\"187\"</td>\n",
       "    </tr>\n",
       "  </tbody>\n",
       "</table>\n",
       "</div>"
      ],
      "text/plain": [
       "  diary    tag\n",
       "0   \"3\"  \"181\"\n",
       "1   \"3\"  \"328\"\n",
       "2   \"4\"  \"180\"\n",
       "3   \"4\"  \"184\"\n",
       "4   \"8\"  \"187\""
      ]
     },
     "execution_count": 7,
     "metadata": {},
     "output_type": "execute_result"
    }
   ],
   "source": [
    "tags_diaries = pd.read_csv('data/tags_diaries.csv', sep=',#', names=['diary', 'tag'])\n",
    "tags_diaries.head()"
   ]
  },
  {
   "cell_type": "code",
   "execution_count": 8,
   "metadata": {
    "collapsed": true
   },
   "outputs": [],
   "source": [
    "# датафрейм с id дневников, которым приписана хотя бы одна тема\n",
    "diaries_with_themes = tags_diaries[tags_diaries['tag'].isin(themes)]"
   ]
  },
  {
   "cell_type": "code",
   "execution_count": 9,
   "metadata": {
    "collapsed": true
   },
   "outputs": [],
   "source": [
    "with open('data/notes.json', 'r') as f:\n",
    "        notes = json.load(f)"
   ]
  },
  {
   "cell_type": "code",
   "execution_count": 10,
   "metadata": {
    "collapsed": true
   },
   "outputs": [],
   "source": [
    "rows = []\n",
    "\n",
    "for note in notes[2]['data']:\n",
    "    rows.append([note['id'], note['text'], note['diary']])"
   ]
  },
  {
   "cell_type": "code",
   "execution_count": 11,
   "metadata": {
    "collapsed": true
   },
   "outputs": [],
   "source": [
    "notes = pd.DataFrame(rows, columns=['id', 'text', 'diary'])"
   ]
  },
  {
   "cell_type": "code",
   "execution_count": 12,
   "metadata": {},
   "outputs": [
    {
     "data": {
      "text/html": [
       "<div>\n",
       "<style>\n",
       "    .dataframe thead tr:only-child th {\n",
       "        text-align: right;\n",
       "    }\n",
       "\n",
       "    .dataframe thead th {\n",
       "        text-align: left;\n",
       "    }\n",
       "\n",
       "    .dataframe tbody tr th {\n",
       "        vertical-align: top;\n",
       "    }\n",
       "</style>\n",
       "<table border=\"1\" class=\"dataframe\">\n",
       "  <thead>\n",
       "    <tr style=\"text-align: right;\">\n",
       "      <th></th>\n",
       "      <th>id</th>\n",
       "      <th>text</th>\n",
       "      <th>diary</th>\n",
       "    </tr>\n",
       "  </thead>\n",
       "  <tbody>\n",
       "    <tr>\n",
       "      <th>0</th>\n",
       "      <td>39081</td>\n",
       "      <td>Барабинск. Татарка.</td>\n",
       "      <td>130</td>\n",
       "    </tr>\n",
       "    <tr>\n",
       "      <th>1</th>\n",
       "      <td>39082</td>\n",
       "      <td>Омск. Утро. Стоим до вечера. Обед. Сухой паек.</td>\n",
       "      <td>130</td>\n",
       "    </tr>\n",
       "    <tr>\n",
       "      <th>2</th>\n",
       "      <td>39083</td>\n",
       "      <td>В 6 часов утра еще темно. Станция Называевская...</td>\n",
       "      <td>130</td>\n",
       "    </tr>\n",
       "    <tr>\n",
       "      <th>3</th>\n",
       "      <td>39084</td>\n",
       "      <td>Утром рано приехали в Тюкалинск. Из автоотряда...</td>\n",
       "      <td>130</td>\n",
       "    </tr>\n",
       "    <tr>\n",
       "      <th>4</th>\n",
       "      <td>39085</td>\n",
       "      <td>Так давно я не прикасался к дневнику, что он м...</td>\n",
       "      <td>234</td>\n",
       "    </tr>\n",
       "  </tbody>\n",
       "</table>\n",
       "</div>"
      ],
      "text/plain": [
       "      id                                               text diary\n",
       "0  39081                                Барабинск. Татарка.   130\n",
       "1  39082     Омск. Утро. Стоим до вечера. Обед. Сухой паек.   130\n",
       "2  39083  В 6 часов утра еще темно. Станция Называевская...   130\n",
       "3  39084  Утром рано приехали в Тюкалинск. Из автоотряда...   130\n",
       "4  39085  Так давно я не прикасался к дневнику, что он м...   234"
      ]
     },
     "execution_count": 12,
     "metadata": {},
     "output_type": "execute_result"
    }
   ],
   "source": [
    "# датафрейм с id и текстом записей и id их дневника\n",
    "notes.head()"
   ]
  },
  {
   "cell_type": "code",
   "execution_count": 13,
   "metadata": {
    "collapsed": true
   },
   "outputs": [],
   "source": [
    "notes_without_themes = notes[~notes['diary'].isin(diaries_with_themes['diary'].apply(lambda x: x.strip('\"')))]"
   ]
  },
  {
   "cell_type": "markdown",
   "metadata": {},
   "source": [
    "# Предобработка"
   ]
  },
  {
   "cell_type": "code",
   "execution_count": 14,
   "metadata": {
    "collapsed": true
   },
   "outputs": [],
   "source": [
    "from stop_words import get_stop_words\n",
    "import nltk\n",
    "from pymystem3 import Mystem\n",
    "import re"
   ]
  },
  {
   "cell_type": "code",
   "execution_count": 15,
   "metadata": {
    "collapsed": true
   },
   "outputs": [],
   "source": [
    "random_seed = 42"
   ]
  },
  {
   "cell_type": "code",
   "execution_count": 16,
   "metadata": {
    "collapsed": true
   },
   "outputs": [],
   "source": [
    "stop_words = get_stop_words('ru')\n",
    "stop_words.append('свой')"
   ]
  },
  {
   "cell_type": "code",
   "execution_count": 17,
   "metadata": {
    "collapsed": true
   },
   "outputs": [],
   "source": [
    "m = Mystem()"
   ]
  },
  {
   "cell_type": "code",
   "execution_count": 18,
   "metadata": {
    "collapsed": true
   },
   "outputs": [],
   "source": [
    "def tokenize(text):\n",
    "    comp = re.compile('[А-ЯЁа-яё\\-]+')\n",
    "    tokens = comp.findall(text.lower())\n",
    "    return tokens"
   ]
  },
  {
   "cell_type": "code",
   "execution_count": 19,
   "metadata": {
    "collapsed": true
   },
   "outputs": [],
   "source": [
    "def lemmatize(text):\n",
    "    return [m.lemmatize(word)[0] for word in text]"
   ]
  },
  {
   "cell_type": "code",
   "execution_count": 20,
   "metadata": {
    "collapsed": true
   },
   "outputs": [],
   "source": [
    "# токенизируем заметки\n",
    "notes_lemma = pd.DataFrame()\n",
    "notes_lemma['text'] = notes_without_themes.text[:10000].apply(lambda x: tokenize(x))"
   ]
  },
  {
   "cell_type": "code",
   "execution_count": 21,
   "metadata": {},
   "outputs": [],
   "source": [
    "# лемматизируем заметки\n",
    "notes_lemma['text'] = notes_lemma.text.apply(lambda x: lemmatize(x))"
   ]
  },
  {
   "cell_type": "code",
   "execution_count": 22,
   "metadata": {
    "collapsed": true
   },
   "outputs": [],
   "source": [
    "notes_lemma = notes_lemma.text.apply(lambda x: ' '.join(x))"
   ]
  },
  {
   "cell_type": "code",
   "execution_count": 23,
   "metadata": {},
   "outputs": [
    {
     "data": {
      "text/plain": [
       "4      так давно я не прикасаться к дневник что он я ...\n",
       "251    октябрь в день начинать процесс над демонстран...\n",
       "256    отныне мы быть снимать шапка проходить мимо ло...\n",
       "257    второй половина август быть столь горестный и ...\n",
       "258    конец июль начало август весь запад наш страна...\n",
       "259    несомненно правительство быть ясно что чехосло...\n",
       "260    а между то снова доходить сведение о неэффекти...\n",
       "261    со второй половина май в газета явственно отра...\n",
       "262    в правда опубликовывать два разный статья но о...\n",
       "263    всего несколько день проходить после окончание...\n",
       "Name: text, dtype: object"
      ]
     },
     "execution_count": 23,
     "metadata": {},
     "output_type": "execute_result"
    }
   ],
   "source": [
    "notes_lemma.head(10)"
   ]
  },
  {
   "cell_type": "markdown",
   "metadata": {},
   "source": [
    "# K-means and visualization"
   ]
  },
  {
   "cell_type": "code",
   "execution_count": 24,
   "metadata": {
    "collapsed": true
   },
   "outputs": [],
   "source": [
    "from sklearn.feature_extraction.text import TfidfVectorizer"
   ]
  },
  {
   "cell_type": "code",
   "execution_count": 25,
   "metadata": {},
   "outputs": [
    {
     "data": {
      "text/plain": [
       "(10000, 32774)"
      ]
     },
     "execution_count": 25,
     "metadata": {},
     "output_type": "execute_result"
    }
   ],
   "source": [
    "tfidf_vectorizer = TfidfVectorizer(max_df=0.95, min_df=2, stop_words=stop_words)\n",
    "tfidf_matrix = tfidf_vectorizer.fit_transform(notes_lemma)\n",
    "\n",
    "tfidf_matrix.shape"
   ]
  },
  {
   "cell_type": "code",
   "execution_count": 26,
   "metadata": {
    "collapsed": true
   },
   "outputs": [],
   "source": [
    "# list of the features used in the tf-idf matrix\n",
    "terms = tfidf_vectorizer.get_feature_names()"
   ]
  },
  {
   "cell_type": "code",
   "execution_count": 27,
   "metadata": {
    "collapsed": true
   },
   "outputs": [],
   "source": [
    "from sklearn.cluster import KMeans"
   ]
  },
  {
   "cell_type": "code",
   "execution_count": 28,
   "metadata": {},
   "outputs": [],
   "source": [
    "num_clusters = 10\n",
    "\n",
    "km = KMeans(n_clusters=num_clusters)\n",
    "\n",
    "km.fit(tfidf_matrix)\n",
    "\n",
    "clusters = km.labels_.tolist()"
   ]
  },
  {
   "cell_type": "code",
   "execution_count": 29,
   "metadata": {
    "collapsed": true
   },
   "outputs": [],
   "source": [
    "from sklearn.externals import joblib"
   ]
  },
  {
   "cell_type": "code",
   "execution_count": 30,
   "metadata": {
    "collapsed": true
   },
   "outputs": [],
   "source": [
    "# pickle the model\n",
    "_ = joblib.dump(km,  'doc_cluster.pkl')"
   ]
  },
  {
   "cell_type": "code",
   "execution_count": 31,
   "metadata": {
    "collapsed": true
   },
   "outputs": [],
   "source": [
    "km = joblib.load('doc_cluster.pkl')\n",
    "clusters = km.labels_.tolist()"
   ]
  },
  {
   "cell_type": "code",
   "execution_count": 51,
   "metadata": {},
   "outputs": [],
   "source": [
    "prozhito = {'diary': list(notes_without_themes['diary'][:10000]), 'text': notes_lemma, 'cluster': clusters}\n",
    "\n",
    "frame = pd.DataFrame(prozhito, index=[clusters] , columns=['diary', 'cluster'])"
   ]
  },
  {
   "cell_type": "code",
   "execution_count": 55,
   "metadata": {},
   "outputs": [
    {
     "data": {
      "text/plain": [
       "5    3566\n",
       "4    1496\n",
       "0    1208\n",
       "9     811\n",
       "1     700\n",
       "6     694\n",
       "8     595\n",
       "3     458\n",
       "7     315\n",
       "2     157\n",
       "Name: cluster, dtype: int64"
      ]
     },
     "execution_count": 55,
     "metadata": {},
     "output_type": "execute_result"
    }
   ],
   "source": [
    "frame['cluster'].value_counts()"
   ]
  },
  {
   "cell_type": "code",
   "execution_count": 56,
   "metadata": {
    "collapsed": true
   },
   "outputs": [],
   "source": [
    "clustered_diaries = {}"
   ]
  },
  {
   "cell_type": "code",
   "execution_count": 57,
   "metadata": {},
   "outputs": [
    {
     "name": "stdout",
     "output_type": "stream",
     "text": [
      "Top terms per cluster:\n",
      "\n",
      "Cluster 0 words: ребенок говорить знать жить видеть становиться яковлев дело давать душа мир друг самый думать бог идти писать любить вчера земля\n",
      "\n",
      "\n",
      "\n",
      "Cluster 1 words: пьеса театр вечер дмитриев мхат роман оля говорить мелик мольер яков звонить вильямс либретто калужский пойти приходить позвонить звонок большой\n",
      "\n",
      "\n",
      "\n",
      "Cluster 2 words: миша пьеса вечер калишьян звонок виленкин театр борис приходить кихот прийти большой пойти разговор дон говорить рашель позвонить звонить эрдман\n",
      "\n",
      "\n",
      "\n",
      "Cluster 3 words: аля час алена обед веранда копель море дома завтрак вечер фира сидеть копа солнце али небо сон катя матушка записывать\n",
      "\n",
      "\n",
      "\n",
      "Cluster 4 words: россия русский большевик москва советский власть народ правительство дело говорить немец война газета новый мир совет революция рабочий известие ленин\n",
      "\n",
      "\n",
      "\n",
      "Cluster 5 words: вечер москва вчера говорить час ночь писать идти утро получать письмо дело читать становиться работа давать сделать приходить хороший ехать\n",
      "\n",
      "\n",
      "\n",
      "Cluster 6 words: немец машина сталин генерал говорить фронт рассказывать давать самолет идти красный москва позвонить вчера час командир ночь знать цк полковник\n",
      "\n",
      "\n",
      "\n",
      "Cluster 7 words: мама письмо вечер милый пяст ремизов люба милая тетя обедать терещенко телефон господь женя ночь утро приходить сирин разговор боря\n",
      "\n",
      "\n",
      "\n",
      "Cluster 8 words: спектакль играть роль театр отелло актер сцена зал акт говорить хороший маскарад сила делать пьеса лира становиться зритель искусство смотреть\n",
      "\n",
      "\n",
      "\n",
      "Cluster 9 words: вечер утро университет час книга богоявленский петр читать прогулка егоров академия среда заседание готье четверг пятница работа понедельник минея биография\n",
      "\n",
      "\n",
      "\n"
     ]
    }
   ],
   "source": [
    "print(\"Top terms per cluster:\")\n",
    "print()\n",
    "# sort cluster centers by proximity to centroid\n",
    "order_centroids = km.cluster_centers_.argsort()[:, ::-1] \n",
    "\n",
    "for i in range(num_clusters):\n",
    "    print(\"Cluster %d words:\" % i, end='')\n",
    "    \n",
    "    for ind in order_centroids[i, :20]: \n",
    "        print(' %s' % terms[ind], end='')\n",
    "    print() \n",
    "    print() \n",
    "    \n",
    "    clustered_diaries[i] = set(frame.loc[i]['diary'].values.tolist())\n",
    "    \n",
    "#     print(\"Cluster %d diaries:\\n\" % i, end='')\n",
    "#     for title in frame.loc[i]['id'].values.tolist():\n",
    "#         print(' %s,' % title, end='\\n')\n",
    "    print()\n",
    "    print()"
   ]
  },
  {
   "cell_type": "code",
   "execution_count": 60,
   "metadata": {},
   "outputs": [
    {
     "name": "stdout",
     "output_type": "stream",
     "text": [
      "Cluster 0:\n",
      "{'178', '32', '241', '52', '193', '10', '236', '68', '234', '39', '15', '693', '131', '40', '36', '836', '2', '30', '49', '75', '64', '18', '242', '169', '5', '17', '44', '235', '37', '60', '33', '13', '43', '20'}\n",
      "\n",
      "Cluster 1:\n",
      "{'37', '178', '32', '193', '18', '10', '242', '44', '15'}\n",
      "\n",
      "Cluster 2:\n",
      "{'2', '32', '193', '18', '13', '169', '15'}\n",
      "\n",
      "Cluster 3:\n",
      "{'169', '10'}\n",
      "\n",
      "Cluster 4:\n",
      "{'178', '32', '241', '52', '10', '129', '39', '15', '131', '40', '30', '49', '75', '64', '48', '242', '44', '17', '76', '235', '60', '33', '13', '43'}\n",
      "\n",
      "Cluster 5:\n",
      "{'178', '9', '32', '241', '52', '193', '10', '129', '236', '68', '39', '15', '55', '693', '131', '40', '36', '836', '2', '30', '49', '75', '64', '18', '48', '242', '169', '5', '17', '44', '76', '235', '37', '60', '33', '13', '43', '20'}\n",
      "\n",
      "Cluster 6:\n",
      "{'55', '37', '178', '836', '32', '52', '49', '33', '18', '13', '10', '242', '236', '40', '48', '44', '15'}\n",
      "\n",
      "Cluster 7:\n",
      "{'52', '30', '64', '193', '33', '18', '10', '48', '242', '68', '15'}\n",
      "\n",
      "Cluster 8:\n",
      "{'37', '32', '193', '131', '18', '10', '242', '44', '17', '15'}\n",
      "\n",
      "Cluster 9:\n",
      "{'36', '836', '9', '32', '75', '64', '131', '13', '10', '18', '242', '169', '17', '15'}\n",
      "\n"
     ]
    }
   ],
   "source": [
    "for cluster in clustered_diaries:\n",
    "    print('Cluster %d:' %cluster)\n",
    "    print(clustered_diaries[cluster])\n",
    "    print()"
   ]
  },
  {
   "cell_type": "code",
   "execution_count": null,
   "metadata": {
    "collapsed": true
   },
   "outputs": [],
   "source": []
  }
 ],
 "metadata": {
  "kernelspec": {
   "display_name": "Python 3",
   "language": "python",
   "name": "python3"
  },
  "language_info": {
   "codemirror_mode": {
    "name": "ipython",
    "version": 3
   },
   "file_extension": ".py",
   "mimetype": "text/x-python",
   "name": "python",
   "nbconvert_exporter": "python",
   "pygments_lexer": "ipython3",
   "version": "3.6.3"
  }
 },
 "nbformat": 4,
 "nbformat_minor": 2
}
