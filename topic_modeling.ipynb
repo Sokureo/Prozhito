{
 "cells": [
  {
   "cell_type": "markdown",
   "metadata": {},
   "source": [
    "# Чтение данных"
   ]
  },
  {
   "cell_type": "code",
   "execution_count": 1,
   "metadata": {
    "collapsed": true
   },
   "outputs": [],
   "source": [
    "import pandas as pd\n",
    "import numpy as np"
   ]
  },
  {
   "cell_type": "code",
   "execution_count": 2,
   "metadata": {
    "collapsed": true
   },
   "outputs": [],
   "source": [
    "import json"
   ]
  },
  {
   "cell_type": "code",
   "execution_count": 3,
   "metadata": {
    "collapsed": true
   },
   "outputs": [],
   "source": [
    "import warnings\n",
    "import warnings\n",
    "warnings.filterwarnings('ignore', category=Warning)"
   ]
  },
  {
   "cell_type": "code",
   "execution_count": 4,
   "metadata": {},
   "outputs": [
    {
     "data": {
      "text/html": [
       "<div>\n",
       "<style>\n",
       "    .dataframe thead tr:only-child th {\n",
       "        text-align: right;\n",
       "    }\n",
       "\n",
       "    .dataframe thead th {\n",
       "        text-align: left;\n",
       "    }\n",
       "\n",
       "    .dataframe tbody tr th {\n",
       "        vertical-align: top;\n",
       "    }\n",
       "</style>\n",
       "<table border=\"1\" class=\"dataframe\">\n",
       "  <thead>\n",
       "    <tr style=\"text-align: right;\">\n",
       "      <th></th>\n",
       "      <th>tag</th>\n",
       "      <th>name</th>\n",
       "      <th>type</th>\n",
       "    </tr>\n",
       "  </thead>\n",
       "  <tbody>\n",
       "    <tr>\n",
       "      <th>151</th>\n",
       "      <td>\"179\"</td>\n",
       "      <td>\"О войне\"</td>\n",
       "      <td>\"1\"</td>\n",
       "    </tr>\n",
       "    <tr>\n",
       "      <th>152</th>\n",
       "      <td>\"180\"</td>\n",
       "      <td>\"военный\"</td>\n",
       "      <td>\"1\"</td>\n",
       "    </tr>\n",
       "    <tr>\n",
       "      <th>153</th>\n",
       "      <td>\"181\"</td>\n",
       "      <td>\"заграничная поездка\"</td>\n",
       "      <td>\"1\"</td>\n",
       "    </tr>\n",
       "    <tr>\n",
       "      <th>154</th>\n",
       "      <td>\"182\"</td>\n",
       "      <td>\"блокада\"</td>\n",
       "      <td>\"1\"</td>\n",
       "    </tr>\n",
       "    <tr>\n",
       "      <th>155</th>\n",
       "      <td>\"183\"</td>\n",
       "      <td>\"тыл\"</td>\n",
       "      <td>\"1\"</td>\n",
       "    </tr>\n",
       "    <tr>\n",
       "      <th>156</th>\n",
       "      <td>\"184\"</td>\n",
       "      <td>\"фронтовой\"</td>\n",
       "      <td>\"1\"</td>\n",
       "    </tr>\n",
       "    <tr>\n",
       "      <th>157</th>\n",
       "      <td>\"185\"</td>\n",
       "      <td>\"депортация\"</td>\n",
       "      <td>\"1\"</td>\n",
       "    </tr>\n",
       "    <tr>\n",
       "      <th>158</th>\n",
       "      <td>\"186\"</td>\n",
       "      <td>\"детский\"</td>\n",
       "      <td>\"1\"</td>\n",
       "    </tr>\n",
       "    <tr>\n",
       "      <th>159</th>\n",
       "      <td>\"187\"</td>\n",
       "      <td>\"профессиональный\"</td>\n",
       "      <td>\"1\"</td>\n",
       "    </tr>\n",
       "    <tr>\n",
       "      <th>160</th>\n",
       "      <td>\"188\"</td>\n",
       "      <td>\"путешествие\"</td>\n",
       "      <td>\"1\"</td>\n",
       "    </tr>\n",
       "  </tbody>\n",
       "</table>\n",
       "</div>"
      ],
      "text/plain": [
       "       tag                   name type\n",
       "151  \"179\"              \"О войне\"  \"1\"\n",
       "152  \"180\"              \"военный\"  \"1\"\n",
       "153  \"181\"  \"заграничная поездка\"  \"1\"\n",
       "154  \"182\"              \"блокада\"  \"1\"\n",
       "155  \"183\"                  \"тыл\"  \"1\"\n",
       "156  \"184\"            \"фронтовой\"  \"1\"\n",
       "157  \"185\"           \"депортация\"  \"1\"\n",
       "158  \"186\"              \"детский\"  \"1\"\n",
       "159  \"187\"     \"профессиональный\"  \"1\"\n",
       "160  \"188\"          \"путешествие\"  \"1\""
      ]
     },
     "execution_count": 4,
     "metadata": {},
     "output_type": "execute_result"
    }
   ],
   "source": [
    "tags = pd.read_csv('data/tags.csv', sep=',#', names=['tag', 'name', 'type'])\n",
    "tags = tags.loc[tags['type'] == '\"1\"']\n",
    "tags.head(10)"
   ]
  },
  {
   "cell_type": "markdown",
   "metadata": {},
   "source": [
    "Всего размечено 86 тем. Из таблицы можно заметить, что есть темы, которые пересекаются, например \"О войне\", \"военный\", \"фронтовый\", \"тыл\"."
   ]
  },
  {
   "cell_type": "code",
   "execution_count": 5,
   "metadata": {},
   "outputs": [
    {
     "data": {
      "text/plain": [
       "(86, 3)"
      ]
     },
     "execution_count": 5,
     "metadata": {},
     "output_type": "execute_result"
    }
   ],
   "source": [
    "tags.shape"
   ]
  },
  {
   "cell_type": "code",
   "execution_count": 6,
   "metadata": {
    "collapsed": true
   },
   "outputs": [],
   "source": [
    "# список тем типа 1\n",
    "themes = list(tags['tag'])"
   ]
  },
  {
   "cell_type": "code",
   "execution_count": 7,
   "metadata": {
    "scrolled": true
   },
   "outputs": [
    {
     "data": {
      "text/html": [
       "<div>\n",
       "<style>\n",
       "    .dataframe thead tr:only-child th {\n",
       "        text-align: right;\n",
       "    }\n",
       "\n",
       "    .dataframe thead th {\n",
       "        text-align: left;\n",
       "    }\n",
       "\n",
       "    .dataframe tbody tr th {\n",
       "        vertical-align: top;\n",
       "    }\n",
       "</style>\n",
       "<table border=\"1\" class=\"dataframe\">\n",
       "  <thead>\n",
       "    <tr style=\"text-align: right;\">\n",
       "      <th></th>\n",
       "      <th>0</th>\n",
       "      <th>1</th>\n",
       "      <th>2</th>\n",
       "      <th>3</th>\n",
       "      <th>4</th>\n",
       "      <th>5</th>\n",
       "      <th>6</th>\n",
       "      <th>7</th>\n",
       "      <th>8</th>\n",
       "      <th>9</th>\n",
       "      <th>10</th>\n",
       "    </tr>\n",
       "  </thead>\n",
       "  <tbody>\n",
       "    <tr>\n",
       "      <th>0</th>\n",
       "      <td>\"3\"</td>\n",
       "      <td>\"4\"</td>\n",
       "      <td>\"published\"</td>\n",
       "      <td>\"329\"</td>\n",
       "      <td>\"1932-09-28\"</td>\n",
       "      <td>\"1937-04-30\"</td>\n",
       "      <td>NaN</td>\n",
       "      <td>\"0\"</td>\n",
       "      <td>\"0\"</td>\n",
       "      <td>\"0\"</td>\n",
       "      <td>\"1425446154\"</td>\n",
       "    </tr>\n",
       "    <tr>\n",
       "      <th>1</th>\n",
       "      <td>\"4\"</td>\n",
       "      <td>\"5\"</td>\n",
       "      <td>\"published\"</td>\n",
       "      <td>\"356\"</td>\n",
       "      <td>\"1942-09-09\"</td>\n",
       "      <td>\"1944-01-27\"</td>\n",
       "      <td>NaN</td>\n",
       "      <td>\"0\"</td>\n",
       "      <td>\"0\"</td>\n",
       "      <td>\"1474033861\"</td>\n",
       "      <td>\"1425446228\"</td>\n",
       "    </tr>\n",
       "    <tr>\n",
       "      <th>2</th>\n",
       "      <td>\"5\"</td>\n",
       "      <td>\"6\"</td>\n",
       "      <td>\"published\"</td>\n",
       "      <td>\"28\"</td>\n",
       "      <td>\"1943-01-31\"</td>\n",
       "      <td>\"1951-07-03\"</td>\n",
       "      <td>NaN</td>\n",
       "      <td>\"0\"</td>\n",
       "      <td>\"0\"</td>\n",
       "      <td>\"0\"</td>\n",
       "      <td>\"1425446370\"</td>\n",
       "    </tr>\n",
       "    <tr>\n",
       "      <th>3</th>\n",
       "      <td>\"6\"</td>\n",
       "      <td>\"7\"</td>\n",
       "      <td>\"published\"</td>\n",
       "      <td>\"65\"</td>\n",
       "      <td>\"0000-00-00\"</td>\n",
       "      <td>\"0000-00-00\"</td>\n",
       "      <td>NaN</td>\n",
       "      <td>\"0\"</td>\n",
       "      <td>\"0\"</td>\n",
       "      <td>\"0\"</td>\n",
       "      <td>\"1425446645\"</td>\n",
       "    </tr>\n",
       "    <tr>\n",
       "      <th>4</th>\n",
       "      <td>\"8\"</td>\n",
       "      <td>\"11\"</td>\n",
       "      <td>\"published\"</td>\n",
       "      <td>\"804\"</td>\n",
       "      <td>\"1943-08-04\"</td>\n",
       "      <td>\"1961-12-31\"</td>\n",
       "      <td>NaN</td>\n",
       "      <td>\"0\"</td>\n",
       "      <td>\"0\"</td>\n",
       "      <td>\"0\"</td>\n",
       "      <td>\"1425487703\"</td>\n",
       "    </tr>\n",
       "  </tbody>\n",
       "</table>\n",
       "</div>"
      ],
      "text/plain": [
       "    0     1            2      3             4             5   6    7    8   \\\n",
       "0  \"3\"   \"4\"  \"published\"  \"329\"  \"1932-09-28\"  \"1937-04-30\" NaN  \"0\"  \"0\"   \n",
       "1  \"4\"   \"5\"  \"published\"  \"356\"  \"1942-09-09\"  \"1944-01-27\" NaN  \"0\"  \"0\"   \n",
       "2  \"5\"   \"6\"  \"published\"   \"28\"  \"1943-01-31\"  \"1951-07-03\" NaN  \"0\"  \"0\"   \n",
       "3  \"6\"   \"7\"  \"published\"   \"65\"  \"0000-00-00\"  \"0000-00-00\" NaN  \"0\"  \"0\"   \n",
       "4  \"8\"  \"11\"  \"published\"  \"804\"  \"1943-08-04\"  \"1961-12-31\" NaN  \"0\"  \"0\"   \n",
       "\n",
       "             9             10  \n",
       "0           \"0\"  \"1425446154\"  \n",
       "1  \"1474033861\"  \"1425446228\"  \n",
       "2           \"0\"  \"1425446370\"  \n",
       "3           \"0\"  \"1425446645\"  \n",
       "4           \"0\"  \"1425487703\"  "
      ]
     },
     "execution_count": 7,
     "metadata": {},
     "output_type": "execute_result"
    }
   ],
   "source": [
    "diaries = pd.read_csv('data/diary.csv', sep=',#', header=None)\n",
    "diaries.head()"
   ]
  },
  {
   "cell_type": "markdown",
   "metadata": {},
   "source": [
    "Всего есть 2342 дневника."
   ]
  },
  {
   "cell_type": "code",
   "execution_count": 8,
   "metadata": {},
   "outputs": [
    {
     "data": {
      "text/plain": [
       "2342"
      ]
     },
     "execution_count": 8,
     "metadata": {},
     "output_type": "execute_result"
    }
   ],
   "source": [
    "len(diaries[0])"
   ]
  },
  {
   "cell_type": "code",
   "execution_count": 9,
   "metadata": {
    "scrolled": false
   },
   "outputs": [
    {
     "data": {
      "text/html": [
       "<div>\n",
       "<style>\n",
       "    .dataframe thead tr:only-child th {\n",
       "        text-align: right;\n",
       "    }\n",
       "\n",
       "    .dataframe thead th {\n",
       "        text-align: left;\n",
       "    }\n",
       "\n",
       "    .dataframe tbody tr th {\n",
       "        vertical-align: top;\n",
       "    }\n",
       "</style>\n",
       "<table border=\"1\" class=\"dataframe\">\n",
       "  <thead>\n",
       "    <tr style=\"text-align: right;\">\n",
       "      <th></th>\n",
       "      <th>diary</th>\n",
       "      <th>tag</th>\n",
       "    </tr>\n",
       "  </thead>\n",
       "  <tbody>\n",
       "    <tr>\n",
       "      <th>0</th>\n",
       "      <td>\"3\"</td>\n",
       "      <td>\"181\"</td>\n",
       "    </tr>\n",
       "    <tr>\n",
       "      <th>1</th>\n",
       "      <td>\"3\"</td>\n",
       "      <td>\"328\"</td>\n",
       "    </tr>\n",
       "    <tr>\n",
       "      <th>2</th>\n",
       "      <td>\"4\"</td>\n",
       "      <td>\"180\"</td>\n",
       "    </tr>\n",
       "    <tr>\n",
       "      <th>3</th>\n",
       "      <td>\"4\"</td>\n",
       "      <td>\"184\"</td>\n",
       "    </tr>\n",
       "    <tr>\n",
       "      <th>4</th>\n",
       "      <td>\"8\"</td>\n",
       "      <td>\"187\"</td>\n",
       "    </tr>\n",
       "  </tbody>\n",
       "</table>\n",
       "</div>"
      ],
      "text/plain": [
       "  diary    tag\n",
       "0   \"3\"  \"181\"\n",
       "1   \"3\"  \"328\"\n",
       "2   \"4\"  \"180\"\n",
       "3   \"4\"  \"184\"\n",
       "4   \"8\"  \"187\""
      ]
     },
     "execution_count": 9,
     "metadata": {},
     "output_type": "execute_result"
    }
   ],
   "source": [
    "tags_diaries = pd.read_csv('data/tags_diaries.csv', sep=',#', names=['diary', 'tag'])\n",
    "tags_diaries.head()"
   ]
  },
  {
   "cell_type": "markdown",
   "metadata": {},
   "source": [
    "Из них хоть какой-то тэг приписан к 1407 дневникам. К одному дневнику может быть приписано несколько тэгов."
   ]
  },
  {
   "cell_type": "code",
   "execution_count": 10,
   "metadata": {},
   "outputs": [
    {
     "data": {
      "text/plain": [
       "1407"
      ]
     },
     "execution_count": 10,
     "metadata": {},
     "output_type": "execute_result"
    }
   ],
   "source": [
    "len(set(tags_diaries['diary']))"
   ]
  },
  {
   "cell_type": "code",
   "execution_count": 11,
   "metadata": {
    "collapsed": true
   },
   "outputs": [],
   "source": [
    "# датафрейм с id дневников, которым приписана хотя бы одна тема\n",
    "diaries_with_themes = tags_diaries[tags_diaries['tag'].isin(themes)]"
   ]
  },
  {
   "cell_type": "markdown",
   "metadata": {},
   "source": [
    "Тема приписана 1407 дневникам. Многим дневникам приписано несколько тем. Видимо, потому, что некоторое темы пересекаются или у одного дневника может быть несколько разных тем. \n",
    "\n",
    "Как можно заметить, локации и персоны ни одному дневнику не приписаны. "
   ]
  },
  {
   "cell_type": "code",
   "execution_count": 12,
   "metadata": {},
   "outputs": [
    {
     "data": {
      "text/plain": [
       "1407"
      ]
     },
     "execution_count": 12,
     "metadata": {},
     "output_type": "execute_result"
    }
   ],
   "source": [
    "len(set(diaries_with_themes['diary']))"
   ]
  },
  {
   "cell_type": "code",
   "execution_count": 13,
   "metadata": {
    "collapsed": true
   },
   "outputs": [],
   "source": [
    "with open('data/notes.json', 'r') as f:\n",
    "        notes = json.load(f)"
   ]
  },
  {
   "cell_type": "markdown",
   "metadata": {},
   "source": [
    "В джейсоне 182975 записи (кажется, в csv было больше)."
   ]
  },
  {
   "cell_type": "code",
   "execution_count": 14,
   "metadata": {},
   "outputs": [
    {
     "data": {
      "text/plain": [
       "182975"
      ]
     },
     "execution_count": 14,
     "metadata": {},
     "output_type": "execute_result"
    }
   ],
   "source": [
    "len(notes[2]['data'])"
   ]
  },
  {
   "cell_type": "code",
   "execution_count": 26,
   "metadata": {
    "collapsed": true
   },
   "outputs": [
    {
     "data": {
      "text/plain": [
       "{'createdDate': '1485536357',\n",
       " 'date': '2002-03-18',\n",
       " 'dateTop': '0000-00-00',\n",
       " 'diary': '145',\n",
       " 'id': '221877',\n",
       " 'julian_calendar': '0',\n",
       " 'notDated': '0',\n",
       " 'pictures': '1',\n",
       " 'text': 'Впервые в жизни получил какое-то удовольствие от тренажера. Нынче он у нас стал компьютерным, цветным, адекватным. Не все, конечно, еще отлажено, но против старого — небо и земля. На нем можно решать задачи. С пожаром на взлете мы приземлились за 2.45, визуально, ну, с чуть взмокшей спиной. Так это ж я, старик; молодые-то быстрее зайдут.    \\nПриехала газетчица Маша; дождался, посмотрел материал. От всего разговора, в статью вошли, конечно, крохи, и не самые лучшие; пришлось править, кое-что даже принципиально. Для газетенки сойдет. Сказала, читайте послезавтра в газете… Кофейком ее напоил… но все как-то на скоростях. Оно и понятно: репортеры — они как хариусы: хвать на лету — и дальше…    \\nЧем мне, собственно, не понравился материал? Тем, что в этом интервью о моей большой книге — ни слова. Вообще, на мой взгляд, интервью — жанр, требующий от журналиста большого таланта, нюха, знания жизни. А так — получились обрывочные картинки, из которых можно сделать вывод: у нас одни недостатки. Ну, немножко, между прочим, упомянуто и о профессионализме.    \\nНу да что ж теперь. Интервью это у меня первое в жизни… и наверно последнее. Я говорю то, что знаю, что чувствую. Проблемы-то есть, хотя, может, Абрамовичу они и не по нутру.    \\nЛегче всего давать интервью по принципу «вопрос — конкретный ответ». Меня же купили на журналистскую хитрость: беседа, свободная, пространная… а потом из контекста надергали и слепили нечто, по их пониманию.    \\nНу, кое-как попытался исправить, сгладить углы… все-таки не то… а уже макет слепили, границы очерчены, не вставишь ничего. Да брось ты, Вася. Это все ерунда. Книгу надо дописывать.',\n",
       " 'user': '14'}"
      ]
     },
     "execution_count": 26,
     "metadata": {},
     "output_type": "execute_result"
    }
   ],
   "source": [
    "notes[2]['data'][-1]"
   ]
  },
  {
   "cell_type": "code",
   "execution_count": 15,
   "metadata": {
    "collapsed": true
   },
   "outputs": [],
   "source": [
    "rows = []\n",
    "\n",
    "for note in notes[2]['data']:\n",
    "    rows.append([note['text'], note['diary']])"
   ]
  },
  {
   "cell_type": "code",
   "execution_count": 16,
   "metadata": {
    "collapsed": true
   },
   "outputs": [],
   "source": [
    "notes = pd.DataFrame(rows, columns=['text', 'diary'])"
   ]
  },
  {
   "cell_type": "code",
   "execution_count": 17,
   "metadata": {},
   "outputs": [
    {
     "data": {
      "text/html": [
       "<div>\n",
       "<style>\n",
       "    .dataframe thead tr:only-child th {\n",
       "        text-align: right;\n",
       "    }\n",
       "\n",
       "    .dataframe thead th {\n",
       "        text-align: left;\n",
       "    }\n",
       "\n",
       "    .dataframe tbody tr th {\n",
       "        vertical-align: top;\n",
       "    }\n",
       "</style>\n",
       "<table border=\"1\" class=\"dataframe\">\n",
       "  <thead>\n",
       "    <tr style=\"text-align: right;\">\n",
       "      <th></th>\n",
       "      <th>text</th>\n",
       "      <th>diary</th>\n",
       "    </tr>\n",
       "  </thead>\n",
       "  <tbody>\n",
       "    <tr>\n",
       "      <th>0</th>\n",
       "      <td>Барабинск. Татарка.</td>\n",
       "      <td>130</td>\n",
       "    </tr>\n",
       "    <tr>\n",
       "      <th>1</th>\n",
       "      <td>Омск. Утро. Стоим до вечера. Обед. Сухой паек.</td>\n",
       "      <td>130</td>\n",
       "    </tr>\n",
       "    <tr>\n",
       "      <th>2</th>\n",
       "      <td>В 6 часов утра еще темно. Станция Называевская...</td>\n",
       "      <td>130</td>\n",
       "    </tr>\n",
       "    <tr>\n",
       "      <th>3</th>\n",
       "      <td>Утром рано приехали в Тюкалинск. Из автоотряда...</td>\n",
       "      <td>130</td>\n",
       "    </tr>\n",
       "    <tr>\n",
       "      <th>4</th>\n",
       "      <td>Так давно я не прикасался к дневнику, что он м...</td>\n",
       "      <td>234</td>\n",
       "    </tr>\n",
       "  </tbody>\n",
       "</table>\n",
       "</div>"
      ],
      "text/plain": [
       "                                                text diary\n",
       "0                                Барабинск. Татарка.   130\n",
       "1     Омск. Утро. Стоим до вечера. Обед. Сухой паек.   130\n",
       "2  В 6 часов утра еще темно. Станция Называевская...   130\n",
       "3  Утром рано приехали в Тюкалинск. Из автоотряда...   130\n",
       "4  Так давно я не прикасался к дневнику, что он м...   234"
      ]
     },
     "execution_count": 17,
     "metadata": {},
     "output_type": "execute_result"
    }
   ],
   "source": [
    "# датафрейм с записями и id их дневника\n",
    "notes.head()"
   ]
  },
  {
   "cell_type": "markdown",
   "metadata": {},
   "source": [
    "# Предобработка"
   ]
  },
  {
   "cell_type": "code",
   "execution_count": 18,
   "metadata": {
    "collapsed": true
   },
   "outputs": [],
   "source": [
    "from stop_words import get_stop_words\n",
    "import nltk\n",
    "from pymystem3 import Mystem\n",
    "import re"
   ]
  },
  {
   "cell_type": "code",
   "execution_count": 19,
   "metadata": {
    "collapsed": true
   },
   "outputs": [],
   "source": [
    "random_seed = 42"
   ]
  },
  {
   "cell_type": "code",
   "execution_count": 20,
   "metadata": {
    "collapsed": true
   },
   "outputs": [],
   "source": [
    "stop_words = get_stop_words('ru')\n",
    "stop_words.append('свой')"
   ]
  },
  {
   "cell_type": "code",
   "execution_count": 21,
   "metadata": {
    "collapsed": true
   },
   "outputs": [],
   "source": [
    "m = Mystem()"
   ]
  },
  {
   "cell_type": "code",
   "execution_count": 22,
   "metadata": {
    "collapsed": true
   },
   "outputs": [],
   "source": [
    "def tokenize(text):\n",
    "    comp = re.compile('[А-ЯЁа-яё\\-]+')\n",
    "    tokens = comp.findall(text.lower())\n",
    "    return tokens"
   ]
  },
  {
   "cell_type": "code",
   "execution_count": 23,
   "metadata": {
    "collapsed": true
   },
   "outputs": [],
   "source": [
    "def lemmatize(text):\n",
    "    return [m.lemmatize(word)[0] for word in text]"
   ]
  },
  {
   "cell_type": "code",
   "execution_count": 52,
   "metadata": {
    "collapsed": true
   },
   "outputs": [],
   "source": [
    "# токенизируем заметки\n",
    "notes_lemma = pd.DataFrame()\n",
    "notes_lemma['text'] = notes.text[:10000].apply(lambda x: tokenize(x))"
   ]
  },
  {
   "cell_type": "code",
   "execution_count": 53,
   "metadata": {
    "collapsed": true
   },
   "outputs": [],
   "source": [
    "# лемматизируем заметки\n",
    "notes_lemma['text'] = notes_lemma.text.apply(lambda x: lemmatize(x))"
   ]
  },
  {
   "cell_type": "code",
   "execution_count": 66,
   "metadata": {
    "collapsed": true
   },
   "outputs": [],
   "source": [
    "notes_lemma = notes_lemma.text.apply(lambda x: ' '.join(x))"
   ]
  },
  {
   "cell_type": "code",
   "execution_count": 67,
   "metadata": {},
   "outputs": [
    {
     "data": {
      "text/plain": [
       "0                                    барабинск татарка\n",
       "1            омск утро стоять до вечер обед сухой паек\n",
       "2    в час утро еще темно станция называевский слез...\n",
       "3    утро рано приезжать в тюкалинск из автоотряд и...\n",
       "4    так давно я не прикасаться к дневник что он я ...\n",
       "5    еще проходить пешком более км навстречу выходи...\n",
       "6    стоять на место за это время поступать несколь...\n",
       "7    приезжать на станция потом идти до военный гор...\n",
       "8    мы отделять от рот в отдельный комната вчера б...\n",
       "9    мы перевозить в расположение бригада где сформ...\n",
       "Name: text, dtype: object"
      ]
     },
     "execution_count": 67,
     "metadata": {},
     "output_type": "execute_result"
    }
   ],
   "source": [
    "notes_lemma.head(10)"
   ]
  },
  {
   "cell_type": "markdown",
   "metadata": {},
   "source": [
    "# Тематическое моделирование"
   ]
  },
  {
   "cell_type": "code",
   "execution_count": 55,
   "metadata": {
    "collapsed": true
   },
   "outputs": [],
   "source": [
    "from sklearn.feature_extraction.text import TfidfVectorizer"
   ]
  },
  {
   "cell_type": "code",
   "execution_count": 61,
   "metadata": {},
   "outputs": [],
   "source": [
    "tfidf_vectorizer = TfidfVectorizer(max_df=0.95, min_df=2, stop_words=stop_words)\n",
    "tfidf = tfidf_vectorizer.fit_transform(notes_lemma)\n",
    "tfidf_feature_names = tfidf_vectorizer.get_feature_names()"
   ]
  },
  {
   "cell_type": "code",
   "execution_count": 69,
   "metadata": {
    "collapsed": true
   },
   "outputs": [],
   "source": [
    "from sklearn.decomposition import NMF"
   ]
  },
  {
   "cell_type": "code",
   "execution_count": 62,
   "metadata": {
    "collapsed": true
   },
   "outputs": [],
   "source": [
    "no_topics = 10\n",
    "\n",
    "# NMF\n",
    "nmf = NMF(n_components=no_topics, random_state=random_seed, alpha=.1, l1_ratio=.5, init='nndsvd').fit(tfidf)"
   ]
  },
  {
   "cell_type": "code",
   "execution_count": 63,
   "metadata": {
    "collapsed": true
   },
   "outputs": [],
   "source": [
    "def display_topics(model, feature_names, no_top_words):\n",
    "    for topic_idx, topic in enumerate(model.components_):\n",
    "        print(\"Topic %d:\" % (topic_idx))\n",
    "        print(\" \".join([feature_names[i] for i in topic.argsort()[:-no_top_words - 1:-1]]))"
   ]
  },
  {
   "cell_type": "code",
   "execution_count": 70,
   "metadata": {},
   "outputs": [
    {
     "name": "stdout",
     "output_type": "stream",
     "text": [
      "Topic 0:\n",
      "говорить дело знать русский давать становиться москва самый идти вчера оставаться видеть большой думать большевик последний работа место рассказывать новый\n",
      "Topic 1:\n",
      "мао кпк цзэ цк китай ван чан председатель кай партия кан гоминьдан район китайский руководство шэн советский особый политический яньань\n",
      "Topic 2:\n",
      "язык болгарский статья славянский институт доклад словарь языкознание атлас история славяноведение работа сравнительный вопрос ученый печать написать грамматика должный сборник\n",
      "Topic 3:\n",
      "немец фронт немецкий армия война ленинград противник дивизия бой удар город гитлер наступление войско идти красный ленинградский самолет германия район\n",
      "Topic 4:\n",
      "тов отряд федоров рота эшелон командир группа балицкий елезный паровоз район взвод партизан вагон подорвать соединение штаб радиограмма вражеский разведка\n",
      "Topic 5:\n",
      "японец снаряд батарея японский генерал час гора город огонь форт позиция стрелять гавань фланг орудие стессель миноносец крепость артур судно\n",
      "Topic 6:\n",
      "миша пьеса театр вечер мхат звонок дмитриев звонить позвонить оля говорить пойти приходить роман спектакль прийти кихот мольер яков эрдман\n",
      "Topic 7:\n",
      "хлеб гр обед получать галя карточка утро масло завтра северный радио академия суп дрова ду час каша ужин тревога табак\n",
      "Topic 8:\n",
      "письмо мама писать тетя милый тася получать милая написать аня пяст вечер люба господь папа ремизов обедать ответ терещенко женя\n",
      "Topic 9:\n",
      "вечер час утро читать университет книга петр богоявленский егоров прогулка лекция готье среда заседание минея пятница четверг воскресение любавский чтение\n"
     ]
    }
   ],
   "source": [
    "no_top_words = 20\n",
    "display_topics(nmf, tfidf_feature_names, no_top_words)"
   ]
  },
  {
   "cell_type": "code",
   "execution_count": 71,
   "metadata": {
    "collapsed": true
   },
   "outputs": [],
   "source": [
    "def get_topics(texts):\n",
    "    \n",
    "    notes_lemma = pd.DataFrame()\n",
    "    notes_lemma['text'] = texts.apply(lambda x: tokenize(x))\n",
    "    notes_lemma['text'] = notes_lemma.text.apply(lambda x: lemmatize(x))\n",
    "    notes_lemma = notes_lemma.text.apply(lambda x: ' '.join(x))\n",
    "    \n",
    "    tfidf_vectorizer = TfidfVectorizer(max_df=0.95, min_df=2, stop_words=stop_words)\n",
    "    tfidf = tfidf_vectorizer.fit_transform(notes_lemma)\n",
    "    tfidf_feature_names = tfidf_vectorizer.get_feature_names()\n",
    "    \n",
    "    no_topics = 10\n",
    "    nmf = NMF(n_components=no_topics, random_state=random_seed, alpha=.1, \n",
    "              l1_ratio=.5, init='nndsvd').fit(tfidf)\n",
    "    \n",
    "    no_top_words = 20\n",
    "    display_topics(nmf, tfidf_feature_names, no_top_words)"
   ]
  },
  {
   "cell_type": "code",
   "execution_count": 72,
   "metadata": {},
   "outputs": [
    {
     "name": "stdout",
     "output_type": "stream",
     "text": [
      "Topic 0:\n",
      "говорить знать становиться жить дело давать работа идти писать час вчера видеть самый работать приходить получать оставаться ребенок думать стоять\n",
      "Topic 1:\n",
      "утро арт дождь погода пальба пасмурно стрельба вечер ночь слышный тихо выстрел редкий облачность одиночный ветер слышно идти отдаленный снег\n",
      "Topic 2:\n",
      "мина тревога отбой зенитка воздушный возд тихо небо бомба ночь налет слышный облако взрыв объявлять давать звездный сирена мороз бить\n",
      "Topic 3:\n",
      "спектакль роль играть театр отелло актер пьеса сцена акт зал маскарад хороший зритель искусство говорить сила делать образ арбенин лира\n",
      "Topic 4:\n",
      "немец русский россия война народ правительство советский армия войско немецкий власть фронт солдат мир германия совет большевик москва военный революция\n",
      "Topic 5:\n",
      "город фронт враг утро перемена температура самолет орудие ночь налет улица спокойно выстрел обстреливать мороз воздушный солнце течение облако канонада\n",
      "Topic 6:\n",
      "полк красный батарея командир взвод батальон орудие гаубица офицер огонь полковник станция деревня колонна отряд бой рота село позиция пехота\n",
      "Topic 7:\n",
      "обстрел снаряд арт район разрыв рваться мпво слышный штаб начинаться фрунзенский свист прекращаться возобновляться радио противник одиночный ул продолжаться час\n",
      "Topic 8:\n",
      "хлеб гр лена суп мама масло каша карточка крупа грамм очередь получать мясо сахар ака съедать мороз рабочий пойти обед\n",
      "Topic 9:\n",
      "ленинград академия архив наука история академик научный война сотрудник ученый институт академический материал президент работа набережная покуда нева учреждение ленинградец\n"
     ]
    }
   ],
   "source": [
    "get_topics(notes.text[10000:20000])"
   ]
  },
  {
   "cell_type": "code",
   "execution_count": 73,
   "metadata": {},
   "outputs": [
    {
     "name": "stdout",
     "output_type": "stream",
     "text": [
      "Topic 0:\n",
      "вечер мамочка письмо час утро получать работа ночь школа идти говорить ходить спать работать приходить обед писать хороший знать проходить\n",
      "Topic 1:\n",
      "улей пчела мед выставлять матка пуд погода убирать фунт магазин рой рамка теплый роить остальной зимовка поставлять греча дождик штука\n",
      "Topic 2:\n",
      "вопрос москва война ссср англия иден советский германия фронт дело армия правительство швеция черчилль гитлер страна отношение союз политика переговоры\n",
      "Topic 3:\n",
      "полет летать экипаж скорость посадка пилот машина самолет садиться полоса рейс командир высота давать метр заход двигатель глиссада лететь газ\n",
      "Topic 4:\n",
      "снег выпадать морозец погода подмораживать растаивать оттепель зима теплый стоять санный морозный метель вьюга путь ясный обильный морозно декабрь снежок\n",
      "Topic 5:\n",
      "митрополит церковь дарить владыка служить служба воскресение русский архиепископ народ николай храм литургия суббота молебен приход священник епископ церковный св\n",
      "Topic 6:\n",
      "андреевна софья львовна александра письмо говорить ясный григорьевич чертков нынче владимир приезжать львович спрашивать татьяна играть мария рассказывать становиться уезжать\n",
      "Topic 7:\n",
      "река лед верста погост тронуться становиться монастырь вода деревня оный берег деревянный церковь город оное крестьянин ходить час луг остров\n",
      "Topic 8:\n",
      "мороз градус ясно свет гореть старому погода декабрь брат радио сильный ночь новое мать стоять зима ясный мамочка войско сие\n",
      "Topic 9:\n",
      "дождь тепло погода холодно градус холодный проходить снежок холод ночь пчела теплый становиться стоять трава утро слякоть оттепель ненастье растаивать\n"
     ]
    }
   ],
   "source": [
    "get_topics(notes.text[-10000:])"
   ]
  },
  {
   "cell_type": "markdown",
   "metadata": {},
   "source": [
    "# Записи без тематических тэгов"
   ]
  },
  {
   "cell_type": "markdown",
   "metadata": {},
   "source": [
    "У 104184 записи нет тематического тэга."
   ]
  },
  {
   "cell_type": "code",
   "execution_count": 45,
   "metadata": {},
   "outputs": [],
   "source": [
    "notes_without_themes = notes[~notes['diary'].isin(diaries_with_themes['diary'].apply(lambda x: x.strip('\"')))]"
   ]
  },
  {
   "cell_type": "code",
   "execution_count": 74,
   "metadata": {},
   "outputs": [
    {
     "data": {
      "text/plain": [
       "(104184, 2)"
      ]
     },
     "execution_count": 74,
     "metadata": {},
     "output_type": "execute_result"
    }
   ],
   "source": [
    "notes_without_themes.shape"
   ]
  },
  {
   "cell_type": "code",
   "execution_count": 75,
   "metadata": {},
   "outputs": [
    {
     "name": "stdout",
     "output_type": "stream",
     "text": [
      "Topic 0:\n",
      "говорить дело русский россия знать становиться война новый народ давать самый мир жить идти видеть думать слово писать большевик вчера\n",
      "Topic 1:\n",
      "аля час обед алена веранда копель сидеть фира завтрак море дома копа солнце катя вечер али спать небо сон записывать\n",
      "Topic 2:\n",
      "спектакль играть роль театр отелло актер сцена акт зал маскарад хороший зритель сила говорить искусство делать смотреть лира образ получаться\n",
      "Topic 3:\n",
      "роман читать ангарский вечер глава вильямс воланд свободный работа написать ермолинский писать править писатель чтение сценарий маргарита слушать коля прийти\n",
      "Topic 4:\n",
      "вечер утро час университет читать книга егоров петр богоявленский прогулка заседание академия лекция готье среда любавский четверг пятница работа суббота\n",
      "Topic 5:\n",
      "мама письмо милый вечер пяст ремизов люба обедать милая господь тетя терещенко телефон женя приходить ночь сирин писать утро приезжать\n",
      "Topic 6:\n",
      "пьеса миша театр вечер мхат звонок дмитриев оля звонить позвонить говорить приходить пойти прийти кихот мольер калишьян разговор просить дон\n",
      "Topic 7:\n",
      "красный батарея орудие взвод батальон гаубица полк огонь командир колонна полковник позиция пехота команда село станция рота отряд капитан бронепоезд\n",
      "Topic 8:\n",
      "машина немец сталин самолет фронт рассказывать позвонить час приезжать ночь поехать давать идти садиться генерал вчера редакция говорить летчик звонить\n",
      "Topic 9:\n",
      "москва ехать ленинград вчера поезд театр уезжать прилетать приезжать слух московский дорога известие вокзал утро дорогой вернуться привозить отъезд завтра\n"
     ]
    }
   ],
   "source": [
    "get_topics(notes_without_themes.text[:10000])"
   ]
  },
  {
   "cell_type": "code",
   "execution_count": 76,
   "metadata": {},
   "outputs": [
    {
     "name": "stdout",
     "output_type": "stream",
     "text": [
      "Topic 0:\n",
      "говорить знать вечер думать час хороший становиться москва дело идти любить работа понимать жить самый приходить писать оставаться давать видеть\n",
      "Topic 1:\n",
      "читать история доклад ключевский прочитывать заметка кончать статья начинать конспектировать книга глава просматривать заседание заниматься русский исторический вечер наука делать\n",
      "Topic 2:\n",
      "улей пчела мед выставлять погода дождь матка пуд убирать магазин фунт рой рамка теплый роить тепло поставлять остальной греча хороший\n",
      "Topic 3:\n",
      "работа текущий бсэ библиография библиографический пролетариат история редактировать комиссия статья карточка проредактировать ссср мсэ заседание ленин институт местком написать индекс\n",
      "Topic 4:\n",
      "снег тепло дождь мороз погода выпадать река стоять градус теплый лед морозец растаивать становиться зима подмораживать оттепель снежок ясный морозный\n",
      "Topic 5:\n",
      "николина горе гора дод уезжать отъезд утро додома учебник выезжать москва вечер работа доклад орг класс вернуться гулять поехать нога\n",
      "Topic 6:\n",
      "станица полк красный противник дивизия часть лабинский казак кубанский конный река генерал пехота занимать бой село конница бригада наступление корпус\n",
      "Topic 7:\n",
      "работать статья барятинский капитал атья ст дома больной пчела библиотека архив ленин реферат учебник сильно кончать час выходной абрист монография\n",
      "Topic 8:\n",
      "андреевна софья львовна александра письмо ясный григорьевич нынче говорить чертков владимир приезжать спрашивать львович играть татьяна пойти мария рассказывать уезжать\n",
      "Topic 9:\n",
      "лекция проконспектировать очередной прочитывать разбирать курс университет цикл сага готовиться конспект вечер искусство трошин архангельский аон читать гистология разбор социология\n"
     ]
    }
   ],
   "source": [
    "get_topics(notes_without_themes.text[-10000:])"
   ]
  }
 ],
 "metadata": {
  "kernelspec": {
   "display_name": "Python 3",
   "language": "python",
   "name": "python3"
  },
  "language_info": {
   "codemirror_mode": {
    "name": "ipython",
    "version": 3
   },
   "file_extension": ".py",
   "mimetype": "text/x-python",
   "name": "python",
   "nbconvert_exporter": "python",
   "pygments_lexer": "ipython3",
   "version": "3.6.3"
  }
 },
 "nbformat": 4,
 "nbformat_minor": 2
}
