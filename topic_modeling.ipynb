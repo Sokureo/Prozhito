{
 "cells": [
  {
   "cell_type": "markdown",
   "metadata": {},
   "source": [
    "# Чтение данных"
   ]
  },
  {
   "cell_type": "code",
   "execution_count": 1,
   "metadata": {
    "collapsed": true
   },
   "outputs": [],
   "source": [
    "import pandas as pd\n",
    "import numpy as np"
   ]
  },
  {
   "cell_type": "code",
   "execution_count": 2,
   "metadata": {
    "collapsed": true
   },
   "outputs": [],
   "source": [
    "import json"
   ]
  },
  {
   "cell_type": "code",
   "execution_count": 4,
   "metadata": {
    "collapsed": true
   },
   "outputs": [],
   "source": [
    "import warnings\n",
    "import warnings\n",
    "warnings.filterwarnings('ignore', category=Warning)"
   ]
  },
  {
   "cell_type": "code",
   "execution_count": 6,
   "metadata": {},
   "outputs": [
    {
     "data": {
      "text/html": [
       "<div>\n",
       "<style>\n",
       "    .dataframe thead tr:only-child th {\n",
       "        text-align: right;\n",
       "    }\n",
       "\n",
       "    .dataframe thead th {\n",
       "        text-align: left;\n",
       "    }\n",
       "\n",
       "    .dataframe tbody tr th {\n",
       "        vertical-align: top;\n",
       "    }\n",
       "</style>\n",
       "<table border=\"1\" class=\"dataframe\">\n",
       "  <thead>\n",
       "    <tr style=\"text-align: right;\">\n",
       "      <th></th>\n",
       "      <th>tag</th>\n",
       "      <th>name</th>\n",
       "      <th>type</th>\n",
       "    </tr>\n",
       "  </thead>\n",
       "  <tbody>\n",
       "    <tr>\n",
       "      <th>151</th>\n",
       "      <td>\"179\"</td>\n",
       "      <td>\"О войне\"</td>\n",
       "      <td>\"1\"</td>\n",
       "    </tr>\n",
       "    <tr>\n",
       "      <th>152</th>\n",
       "      <td>\"180\"</td>\n",
       "      <td>\"военный\"</td>\n",
       "      <td>\"1\"</td>\n",
       "    </tr>\n",
       "    <tr>\n",
       "      <th>153</th>\n",
       "      <td>\"181\"</td>\n",
       "      <td>\"заграничная поездка\"</td>\n",
       "      <td>\"1\"</td>\n",
       "    </tr>\n",
       "    <tr>\n",
       "      <th>154</th>\n",
       "      <td>\"182\"</td>\n",
       "      <td>\"блокада\"</td>\n",
       "      <td>\"1\"</td>\n",
       "    </tr>\n",
       "    <tr>\n",
       "      <th>155</th>\n",
       "      <td>\"183\"</td>\n",
       "      <td>\"тыл\"</td>\n",
       "      <td>\"1\"</td>\n",
       "    </tr>\n",
       "    <tr>\n",
       "      <th>156</th>\n",
       "      <td>\"184\"</td>\n",
       "      <td>\"фронтовой\"</td>\n",
       "      <td>\"1\"</td>\n",
       "    </tr>\n",
       "    <tr>\n",
       "      <th>157</th>\n",
       "      <td>\"185\"</td>\n",
       "      <td>\"депортация\"</td>\n",
       "      <td>\"1\"</td>\n",
       "    </tr>\n",
       "    <tr>\n",
       "      <th>158</th>\n",
       "      <td>\"186\"</td>\n",
       "      <td>\"детский\"</td>\n",
       "      <td>\"1\"</td>\n",
       "    </tr>\n",
       "    <tr>\n",
       "      <th>159</th>\n",
       "      <td>\"187\"</td>\n",
       "      <td>\"профессиональный\"</td>\n",
       "      <td>\"1\"</td>\n",
       "    </tr>\n",
       "    <tr>\n",
       "      <th>160</th>\n",
       "      <td>\"188\"</td>\n",
       "      <td>\"путешествие\"</td>\n",
       "      <td>\"1\"</td>\n",
       "    </tr>\n",
       "  </tbody>\n",
       "</table>\n",
       "</div>"
      ],
      "text/plain": [
       "       tag                   name type\n",
       "151  \"179\"              \"О войне\"  \"1\"\n",
       "152  \"180\"              \"военный\"  \"1\"\n",
       "153  \"181\"  \"заграничная поездка\"  \"1\"\n",
       "154  \"182\"              \"блокада\"  \"1\"\n",
       "155  \"183\"                  \"тыл\"  \"1\"\n",
       "156  \"184\"            \"фронтовой\"  \"1\"\n",
       "157  \"185\"           \"депортация\"  \"1\"\n",
       "158  \"186\"              \"детский\"  \"1\"\n",
       "159  \"187\"     \"профессиональный\"  \"1\"\n",
       "160  \"188\"          \"путешествие\"  \"1\""
      ]
     },
     "execution_count": 6,
     "metadata": {},
     "output_type": "execute_result"
    }
   ],
   "source": [
    "tags = pd.read_csv('data/tags.csv', sep=',#', names=['tag', 'name', 'type'])\n",
    "tags = tags.loc[tags['type'] == '\"1\"']\n",
    "tags.head(10)"
   ]
  },
  {
   "cell_type": "markdown",
   "metadata": {},
   "source": [
    "Всего размечено 86 тем. Из таблицы можно заметить, что есть темы, которые пересекаются, например \"О войне\", \"военный\", \"фронтовый\", \"тыл\"."
   ]
  },
  {
   "cell_type": "code",
   "execution_count": 5,
   "metadata": {},
   "outputs": [
    {
     "data": {
      "text/plain": [
       "(86, 3)"
      ]
     },
     "execution_count": 5,
     "metadata": {},
     "output_type": "execute_result"
    }
   ],
   "source": [
    "tags.shape"
   ]
  },
  {
   "cell_type": "code",
   "execution_count": 7,
   "metadata": {
    "collapsed": true
   },
   "outputs": [],
   "source": [
    "# список тем типа 1\n",
    "themes = list(tags['tag'])"
   ]
  },
  {
   "cell_type": "code",
   "execution_count": 8,
   "metadata": {
    "scrolled": true
   },
   "outputs": [
    {
     "data": {
      "text/html": [
       "<div>\n",
       "<style>\n",
       "    .dataframe thead tr:only-child th {\n",
       "        text-align: right;\n",
       "    }\n",
       "\n",
       "    .dataframe thead th {\n",
       "        text-align: left;\n",
       "    }\n",
       "\n",
       "    .dataframe tbody tr th {\n",
       "        vertical-align: top;\n",
       "    }\n",
       "</style>\n",
       "<table border=\"1\" class=\"dataframe\">\n",
       "  <thead>\n",
       "    <tr style=\"text-align: right;\">\n",
       "      <th></th>\n",
       "      <th>0</th>\n",
       "      <th>1</th>\n",
       "      <th>2</th>\n",
       "      <th>3</th>\n",
       "      <th>4</th>\n",
       "      <th>5</th>\n",
       "      <th>6</th>\n",
       "      <th>7</th>\n",
       "      <th>8</th>\n",
       "      <th>9</th>\n",
       "      <th>10</th>\n",
       "    </tr>\n",
       "  </thead>\n",
       "  <tbody>\n",
       "    <tr>\n",
       "      <th>0</th>\n",
       "      <td>\"3\"</td>\n",
       "      <td>\"4\"</td>\n",
       "      <td>\"published\"</td>\n",
       "      <td>\"329\"</td>\n",
       "      <td>\"1932-09-28\"</td>\n",
       "      <td>\"1937-04-30\"</td>\n",
       "      <td>NaN</td>\n",
       "      <td>\"0\"</td>\n",
       "      <td>\"0\"</td>\n",
       "      <td>\"0\"</td>\n",
       "      <td>\"1425446154\"</td>\n",
       "    </tr>\n",
       "    <tr>\n",
       "      <th>1</th>\n",
       "      <td>\"4\"</td>\n",
       "      <td>\"5\"</td>\n",
       "      <td>\"published\"</td>\n",
       "      <td>\"356\"</td>\n",
       "      <td>\"1942-09-09\"</td>\n",
       "      <td>\"1944-01-27\"</td>\n",
       "      <td>NaN</td>\n",
       "      <td>\"0\"</td>\n",
       "      <td>\"0\"</td>\n",
       "      <td>\"1474033861\"</td>\n",
       "      <td>\"1425446228\"</td>\n",
       "    </tr>\n",
       "    <tr>\n",
       "      <th>2</th>\n",
       "      <td>\"5\"</td>\n",
       "      <td>\"6\"</td>\n",
       "      <td>\"published\"</td>\n",
       "      <td>\"28\"</td>\n",
       "      <td>\"1943-01-31\"</td>\n",
       "      <td>\"1951-07-03\"</td>\n",
       "      <td>NaN</td>\n",
       "      <td>\"0\"</td>\n",
       "      <td>\"0\"</td>\n",
       "      <td>\"0\"</td>\n",
       "      <td>\"1425446370\"</td>\n",
       "    </tr>\n",
       "    <tr>\n",
       "      <th>3</th>\n",
       "      <td>\"6\"</td>\n",
       "      <td>\"7\"</td>\n",
       "      <td>\"published\"</td>\n",
       "      <td>\"65\"</td>\n",
       "      <td>\"0000-00-00\"</td>\n",
       "      <td>\"0000-00-00\"</td>\n",
       "      <td>NaN</td>\n",
       "      <td>\"0\"</td>\n",
       "      <td>\"0\"</td>\n",
       "      <td>\"0\"</td>\n",
       "      <td>\"1425446645\"</td>\n",
       "    </tr>\n",
       "    <tr>\n",
       "      <th>4</th>\n",
       "      <td>\"8\"</td>\n",
       "      <td>\"11\"</td>\n",
       "      <td>\"published\"</td>\n",
       "      <td>\"804\"</td>\n",
       "      <td>\"1943-08-04\"</td>\n",
       "      <td>\"1961-12-31\"</td>\n",
       "      <td>NaN</td>\n",
       "      <td>\"0\"</td>\n",
       "      <td>\"0\"</td>\n",
       "      <td>\"0\"</td>\n",
       "      <td>\"1425487703\"</td>\n",
       "    </tr>\n",
       "  </tbody>\n",
       "</table>\n",
       "</div>"
      ],
      "text/plain": [
       "    0     1            2      3             4             5   6    7    8   \\\n",
       "0  \"3\"   \"4\"  \"published\"  \"329\"  \"1932-09-28\"  \"1937-04-30\" NaN  \"0\"  \"0\"   \n",
       "1  \"4\"   \"5\"  \"published\"  \"356\"  \"1942-09-09\"  \"1944-01-27\" NaN  \"0\"  \"0\"   \n",
       "2  \"5\"   \"6\"  \"published\"   \"28\"  \"1943-01-31\"  \"1951-07-03\" NaN  \"0\"  \"0\"   \n",
       "3  \"6\"   \"7\"  \"published\"   \"65\"  \"0000-00-00\"  \"0000-00-00\" NaN  \"0\"  \"0\"   \n",
       "4  \"8\"  \"11\"  \"published\"  \"804\"  \"1943-08-04\"  \"1961-12-31\" NaN  \"0\"  \"0\"   \n",
       "\n",
       "             9             10  \n",
       "0           \"0\"  \"1425446154\"  \n",
       "1  \"1474033861\"  \"1425446228\"  \n",
       "2           \"0\"  \"1425446370\"  \n",
       "3           \"0\"  \"1425446645\"  \n",
       "4           \"0\"  \"1425487703\"  "
      ]
     },
     "execution_count": 8,
     "metadata": {},
     "output_type": "execute_result"
    }
   ],
   "source": [
    "diaries = pd.read_csv('data/diary.csv', sep=',#', header=None)\n",
    "diaries.head()"
   ]
  },
  {
   "cell_type": "markdown",
   "metadata": {},
   "source": [
    "Всего есть 2342 дневника."
   ]
  },
  {
   "cell_type": "code",
   "execution_count": 9,
   "metadata": {},
   "outputs": [
    {
     "data": {
      "text/plain": [
       "2342"
      ]
     },
     "execution_count": 9,
     "metadata": {},
     "output_type": "execute_result"
    }
   ],
   "source": [
    "len(diaries[0])"
   ]
  },
  {
   "cell_type": "code",
   "execution_count": 10,
   "metadata": {
    "scrolled": false
   },
   "outputs": [
    {
     "data": {
      "text/html": [
       "<div>\n",
       "<style>\n",
       "    .dataframe thead tr:only-child th {\n",
       "        text-align: right;\n",
       "    }\n",
       "\n",
       "    .dataframe thead th {\n",
       "        text-align: left;\n",
       "    }\n",
       "\n",
       "    .dataframe tbody tr th {\n",
       "        vertical-align: top;\n",
       "    }\n",
       "</style>\n",
       "<table border=\"1\" class=\"dataframe\">\n",
       "  <thead>\n",
       "    <tr style=\"text-align: right;\">\n",
       "      <th></th>\n",
       "      <th>diary</th>\n",
       "      <th>tag</th>\n",
       "    </tr>\n",
       "  </thead>\n",
       "  <tbody>\n",
       "    <tr>\n",
       "      <th>0</th>\n",
       "      <td>\"3\"</td>\n",
       "      <td>\"181\"</td>\n",
       "    </tr>\n",
       "    <tr>\n",
       "      <th>1</th>\n",
       "      <td>\"3\"</td>\n",
       "      <td>\"328\"</td>\n",
       "    </tr>\n",
       "    <tr>\n",
       "      <th>2</th>\n",
       "      <td>\"4\"</td>\n",
       "      <td>\"180\"</td>\n",
       "    </tr>\n",
       "    <tr>\n",
       "      <th>3</th>\n",
       "      <td>\"4\"</td>\n",
       "      <td>\"184\"</td>\n",
       "    </tr>\n",
       "    <tr>\n",
       "      <th>4</th>\n",
       "      <td>\"8\"</td>\n",
       "      <td>\"187\"</td>\n",
       "    </tr>\n",
       "  </tbody>\n",
       "</table>\n",
       "</div>"
      ],
      "text/plain": [
       "  diary    tag\n",
       "0   \"3\"  \"181\"\n",
       "1   \"3\"  \"328\"\n",
       "2   \"4\"  \"180\"\n",
       "3   \"4\"  \"184\"\n",
       "4   \"8\"  \"187\""
      ]
     },
     "execution_count": 10,
     "metadata": {},
     "output_type": "execute_result"
    }
   ],
   "source": [
    "tags_diaries = pd.read_csv('data/tags_diaries.csv', sep=',#', names=['diary', 'tag'])\n",
    "tags_diaries.head()"
   ]
  },
  {
   "cell_type": "markdown",
   "metadata": {},
   "source": [
    "Из них хоть какой-то тэг приписан к 1407 дневникам. К одному дневнику может быть приписано несколько тэгов."
   ]
  },
  {
   "cell_type": "code",
   "execution_count": 11,
   "metadata": {},
   "outputs": [
    {
     "data": {
      "text/plain": [
       "1407"
      ]
     },
     "execution_count": 11,
     "metadata": {},
     "output_type": "execute_result"
    }
   ],
   "source": [
    "len(set(tags_diaries['diary']))"
   ]
  },
  {
   "cell_type": "code",
   "execution_count": 12,
   "metadata": {
    "collapsed": true
   },
   "outputs": [],
   "source": [
    "# датафрейм с id дневников, которым приписана хотя бы одна тема\n",
    "diaries_with_themes = tags_diaries[tags_diaries['tag'].isin(themes)]"
   ]
  },
  {
   "cell_type": "markdown",
   "metadata": {},
   "source": [
    "Тема приписана 1407 дневникам. Многим дневникам приписано несколько тем. Видимо, потому, что некоторое темы пересекаются или у одного дневника может быть несколько разных тем. \n",
    "\n",
    "Как можно заметить, локации и персоны ни одному дневнику не приписаны. "
   ]
  },
  {
   "cell_type": "code",
   "execution_count": 13,
   "metadata": {},
   "outputs": [
    {
     "data": {
      "text/plain": [
       "1407"
      ]
     },
     "execution_count": 13,
     "metadata": {},
     "output_type": "execute_result"
    }
   ],
   "source": [
    "len(set(diaries_with_themes['diary']))"
   ]
  },
  {
   "cell_type": "code",
   "execution_count": 14,
   "metadata": {
    "collapsed": true
   },
   "outputs": [],
   "source": [
    "with open('data/notes.json', 'r') as f:\n",
    "        notes = json.load(f)"
   ]
  },
  {
   "cell_type": "markdown",
   "metadata": {},
   "source": [
    "В джейсоне 182975 записи (кажется, в csv было больше)."
   ]
  },
  {
   "cell_type": "code",
   "execution_count": 15,
   "metadata": {},
   "outputs": [
    {
     "data": {
      "text/plain": [
       "182975"
      ]
     },
     "execution_count": 15,
     "metadata": {},
     "output_type": "execute_result"
    }
   ],
   "source": [
    "len(notes[2]['data'])"
   ]
  },
  {
   "cell_type": "code",
   "execution_count": 26,
   "metadata": {
    "collapsed": true
   },
   "outputs": [
    {
     "data": {
      "text/plain": [
       "{'createdDate': '1485536357',\n",
       " 'date': '2002-03-18',\n",
       " 'dateTop': '0000-00-00',\n",
       " 'diary': '145',\n",
       " 'id': '221877',\n",
       " 'julian_calendar': '0',\n",
       " 'notDated': '0',\n",
       " 'pictures': '1',\n",
       " 'text': 'Впервые в жизни получил какое-то удовольствие от тренажера. Нынче он у нас стал компьютерным, цветным, адекватным. Не все, конечно, еще отлажено, но против старого — небо и земля. На нем можно решать задачи. С пожаром на взлете мы приземлились за 2.45, визуально, ну, с чуть взмокшей спиной. Так это ж я, старик; молодые-то быстрее зайдут.    \\nПриехала газетчица Маша; дождался, посмотрел материал. От всего разговора, в статью вошли, конечно, крохи, и не самые лучшие; пришлось править, кое-что даже принципиально. Для газетенки сойдет. Сказала, читайте послезавтра в газете… Кофейком ее напоил… но все как-то на скоростях. Оно и понятно: репортеры — они как хариусы: хвать на лету — и дальше…    \\nЧем мне, собственно, не понравился материал? Тем, что в этом интервью о моей большой книге — ни слова. Вообще, на мой взгляд, интервью — жанр, требующий от журналиста большого таланта, нюха, знания жизни. А так — получились обрывочные картинки, из которых можно сделать вывод: у нас одни недостатки. Ну, немножко, между прочим, упомянуто и о профессионализме.    \\nНу да что ж теперь. Интервью это у меня первое в жизни… и наверно последнее. Я говорю то, что знаю, что чувствую. Проблемы-то есть, хотя, может, Абрамовичу они и не по нутру.    \\nЛегче всего давать интервью по принципу «вопрос — конкретный ответ». Меня же купили на журналистскую хитрость: беседа, свободная, пространная… а потом из контекста надергали и слепили нечто, по их пониманию.    \\nНу, кое-как попытался исправить, сгладить углы… все-таки не то… а уже макет слепили, границы очерчены, не вставишь ничего. Да брось ты, Вася. Это все ерунда. Книгу надо дописывать.',\n",
       " 'user': '14'}"
      ]
     },
     "execution_count": 26,
     "metadata": {},
     "output_type": "execute_result"
    }
   ],
   "source": [
    "notes[2]['data'][-1]"
   ]
  },
  {
   "cell_type": "code",
   "execution_count": 16,
   "metadata": {},
   "outputs": [],
   "source": [
    "rows = []\n",
    "\n",
    "for note in notes[2]['data']:\n",
    "    rows.append([note['text'], note['diary']])"
   ]
  },
  {
   "cell_type": "code",
   "execution_count": 17,
   "metadata": {
    "collapsed": true
   },
   "outputs": [],
   "source": [
    "notes = pd.DataFrame(rows, columns=['text', 'diary'])"
   ]
  },
  {
   "cell_type": "code",
   "execution_count": 18,
   "metadata": {},
   "outputs": [
    {
     "data": {
      "text/html": [
       "<div>\n",
       "<style>\n",
       "    .dataframe thead tr:only-child th {\n",
       "        text-align: right;\n",
       "    }\n",
       "\n",
       "    .dataframe thead th {\n",
       "        text-align: left;\n",
       "    }\n",
       "\n",
       "    .dataframe tbody tr th {\n",
       "        vertical-align: top;\n",
       "    }\n",
       "</style>\n",
       "<table border=\"1\" class=\"dataframe\">\n",
       "  <thead>\n",
       "    <tr style=\"text-align: right;\">\n",
       "      <th></th>\n",
       "      <th>text</th>\n",
       "      <th>diary</th>\n",
       "    </tr>\n",
       "  </thead>\n",
       "  <tbody>\n",
       "    <tr>\n",
       "      <th>0</th>\n",
       "      <td>Барабинск. Татарка.</td>\n",
       "      <td>130</td>\n",
       "    </tr>\n",
       "    <tr>\n",
       "      <th>1</th>\n",
       "      <td>Омск. Утро. Стоим до вечера. Обед. Сухой паек.</td>\n",
       "      <td>130</td>\n",
       "    </tr>\n",
       "    <tr>\n",
       "      <th>2</th>\n",
       "      <td>В 6 часов утра еще темно. Станция Называевская...</td>\n",
       "      <td>130</td>\n",
       "    </tr>\n",
       "    <tr>\n",
       "      <th>3</th>\n",
       "      <td>Утром рано приехали в Тюкалинск. Из автоотряда...</td>\n",
       "      <td>130</td>\n",
       "    </tr>\n",
       "    <tr>\n",
       "      <th>4</th>\n",
       "      <td>Так давно я не прикасался к дневнику, что он м...</td>\n",
       "      <td>234</td>\n",
       "    </tr>\n",
       "  </tbody>\n",
       "</table>\n",
       "</div>"
      ],
      "text/plain": [
       "                                                text diary\n",
       "0                                Барабинск. Татарка.   130\n",
       "1     Омск. Утро. Стоим до вечера. Обед. Сухой паек.   130\n",
       "2  В 6 часов утра еще темно. Станция Называевская...   130\n",
       "3  Утром рано приехали в Тюкалинск. Из автоотряда...   130\n",
       "4  Так давно я не прикасался к дневнику, что он м...   234"
      ]
     },
     "execution_count": 18,
     "metadata": {},
     "output_type": "execute_result"
    }
   ],
   "source": [
    "# датафрейм с записями и id их дневника\n",
    "notes.head()"
   ]
  },
  {
   "cell_type": "markdown",
   "metadata": {},
   "source": [
    "# Предобработка"
   ]
  },
  {
   "cell_type": "code",
   "execution_count": 19,
   "metadata": {
    "collapsed": true
   },
   "outputs": [],
   "source": [
    "from stop_words import get_stop_words\n",
    "import nltk\n",
    "from pymystem3 import Mystem\n",
    "import re"
   ]
  },
  {
   "cell_type": "code",
   "execution_count": 20,
   "metadata": {
    "collapsed": true
   },
   "outputs": [],
   "source": [
    "random_seed = 42"
   ]
  },
  {
   "cell_type": "code",
   "execution_count": 21,
   "metadata": {
    "collapsed": true
   },
   "outputs": [],
   "source": [
    "stop_words = get_stop_words('ru')\n",
    "stop_words.append('свой')"
   ]
  },
  {
   "cell_type": "code",
   "execution_count": 22,
   "metadata": {
    "collapsed": true
   },
   "outputs": [],
   "source": [
    "m = Mystem()"
   ]
  },
  {
   "cell_type": "code",
   "execution_count": 23,
   "metadata": {
    "collapsed": true
   },
   "outputs": [],
   "source": [
    "def tokenize(text):\n",
    "    comp = re.compile('[А-ЯЁа-яё\\-]+')\n",
    "    tokens = comp.findall(text.lower())\n",
    "    return tokens"
   ]
  },
  {
   "cell_type": "code",
   "execution_count": 24,
   "metadata": {
    "collapsed": true
   },
   "outputs": [],
   "source": [
    "def lemmatize(text):\n",
    "    return [m.lemmatize(word)[0] for word in text]"
   ]
  },
  {
   "cell_type": "code",
   "execution_count": 25,
   "metadata": {
    "collapsed": true
   },
   "outputs": [],
   "source": [
    "# токенизируем заметки\n",
    "notes_lemma = pd.DataFrame()\n",
    "notes_lemma['text'] = notes.text[:10000].apply(lambda x: tokenize(x))"
   ]
  },
  {
   "cell_type": "code",
   "execution_count": 26,
   "metadata": {},
   "outputs": [],
   "source": [
    "# лемматизируем заметки\n",
    "notes_lemma['text'] = notes_lemma.text.apply(lambda x: lemmatize(x))"
   ]
  },
  {
   "cell_type": "code",
   "execution_count": 32,
   "metadata": {},
   "outputs": [],
   "source": [
    "notes_lemma = notes_lemma.text.apply(lambda x: ' '.join(x))"
   ]
  },
  {
   "cell_type": "code",
   "execution_count": 33,
   "metadata": {},
   "outputs": [
    {
     "data": {
      "text/plain": [
       "0                                    барабинск татарка\n",
       "1            омск утро стоять до вечер обед сухой паек\n",
       "2    в час утро еще темно станция называевский слез...\n",
       "3    утро рано приезжать в тюкалинск из автоотряд и...\n",
       "4    так давно я не прикасаться к дневник что он я ...\n",
       "5    еще проходить пешком более км навстречу выходи...\n",
       "6    стоять на место за это время поступать несколь...\n",
       "7    приезжать на станция потом идти до военный гор...\n",
       "8    мы отделять от рот в отдельный комната вчера б...\n",
       "9    мы перевозить в расположение бригада где сформ...\n",
       "Name: text, dtype: object"
      ]
     },
     "execution_count": 33,
     "metadata": {},
     "output_type": "execute_result"
    }
   ],
   "source": [
    "notes_lemma.head(10)"
   ]
  },
  {
   "cell_type": "markdown",
   "metadata": {},
   "source": [
    "# Тематическое моделирование"
   ]
  },
  {
   "cell_type": "code",
   "execution_count": 28,
   "metadata": {
    "collapsed": true
   },
   "outputs": [],
   "source": [
    "from sklearn.feature_extraction.text import TfidfVectorizer, CountVectorizer\n",
    "from sklearn.pipeline import FeatureUnion"
   ]
  },
  {
   "cell_type": "code",
   "execution_count": 29,
   "metadata": {
    "collapsed": true
   },
   "outputs": [],
   "source": [
    "tfidf = TfidfVectorizer(sublinear_tf=True,\n",
    "    strip_accents='unicode',\n",
    "    analyzer='word',\n",
    "    token_pattern=r'\\w{1,}',\n",
    "    stop_words=stop_words,\n",
    "    ngram_range=(1, 2))"
   ]
  },
  {
   "cell_type": "code",
   "execution_count": 35,
   "metadata": {},
   "outputs": [],
   "source": [
    "notes_vec = tfidf.fit_transform(notes_lemma)"
   ]
  },
  {
   "cell_type": "code",
   "execution_count": 36,
   "metadata": {
    "collapsed": true
   },
   "outputs": [],
   "source": [
    "from sklearn.decomposition import NMF, LatentDirichletAllocation"
   ]
  },
  {
   "cell_type": "code",
   "execution_count": 37,
   "metadata": {
    "collapsed": true
   },
   "outputs": [],
   "source": [
    "tfidf_feature_names = tfidf.get_feature_names()"
   ]
  },
  {
   "cell_type": "code",
   "execution_count": 38,
   "metadata": {
    "collapsed": true
   },
   "outputs": [],
   "source": [
    "no_topics = 10\n",
    "\n",
    "# NMF\n",
    "nmf = NMF(n_components=no_topics, random_state=random_seed, alpha=.1, l1_ratio=.5, init='nndsvd').fit(notes_vec)"
   ]
  },
  {
   "cell_type": "code",
   "execution_count": 39,
   "metadata": {
    "collapsed": true
   },
   "outputs": [],
   "source": [
    "def display_topics(model, feature_names, no_top_words):\n",
    "    for topic_idx, topic in enumerate(model.components_):\n",
    "        print(\"Topic %d:\" % (topic_idx))\n",
    "        print(\" \".join([feature_names[i] for i in topic.argsort()[:-no_top_words - 1:-1]]))"
   ]
  },
  {
   "cell_type": "code",
   "execution_count": 45,
   "metadata": {},
   "outputs": [
    {
     "name": "stdout",
     "output_type": "stream",
     "text": [
      "Topic 0:\n",
      "которыи говорить какои час идти дело такои давать вечер немец фронт получать сеичас другои новыи\n",
      "Topic 1:\n",
      "мао кпк цзэ мао цзэ цк кпк цк председатель цк китаи председатель чан каи чан каи ван кан руководство\n",
      "Topic 2:\n",
      "язык болгарскии славянскии статья славянскии язык институт болгарскии язык славяноведение сравнительныи языкознание доклад институт славяноведение атлас словарь печать\n",
      "Topic 3:\n",
      "паровоз подорвать вагон эшелон разбивать разбивать паровоз подорвать поезд повреждать балицкии паровоз вагон поезд раион вагон повреждать паровоз разбивать вражескии эшелон\n",
      "Topic 4:\n",
      "тов отряд федоров елезныи елезныи д тов федоров рота группа д орога орога командир партизан д соединение посылать\n",
      "Topic 5:\n",
      "миша пьеса театр дон кихот кихот эрдман вечер оля дон звонок мхат дмитриев позвонить борис приити\n",
      "Topic 6:\n",
      "японец снаряд батарея японскии гора гавань стрелять фланг форт позиция огонь час минута генерал стессель обстреливать\n",
      "Topic 7:\n",
      "егоров вечер богоявленскии н петр утро н егоров д н прогулка четверг иза л иза среда университет минея\n",
      "Topic 8:\n",
      "роман роман вечер вечер ангарскии читать воланд глава роман вильямс дома роман роман слава ермолинскии шахматы ермолинскии вечер вильямс контора какои контора казенныи\n",
      "Topic 9:\n",
      "работа роман роман свободныи роман свободныи работа ящичек тумбочка контора говорить контора издательство контора известие контора идти контора запротестовать контора заведовать контора джамгаровыи контора двор контора государственныи\n"
     ]
    }
   ],
   "source": [
    "no_top_words = 15\n",
    "display_topics(nmf, tfidf_feature_names, no_top_words)"
   ]
  },
  {
   "cell_type": "code",
   "execution_count": 41,
   "metadata": {},
   "outputs": [
    {
     "name": "stderr",
     "output_type": "stream",
     "text": [
      "/home/socur/anaconda3/lib/python3.6/site-packages/sklearn/decomposition/online_lda.py:294: DeprecationWarning: n_topics has been renamed to n_components in version 0.19 and will be removed in 0.21\n",
      "  DeprecationWarning)\n"
     ]
    }
   ],
   "source": [
    "# LDA\n",
    "lda = LatentDirichletAllocation(n_topics=no_topics, max_iter=5, learning_method='online', learning_offset=50., \n",
    "                                random_state=random_seed).fit(notes_vec)"
   ]
  },
  {
   "cell_type": "code",
   "execution_count": 46,
   "metadata": {},
   "outputs": [
    {
     "name": "stdout",
     "output_type": "stream",
     "text": [
      "Topic 0:\n",
      "миноискатель находка миноискатель находка обед стоять особенныи отправлять курсы леитенант праздничныи исключение блюдо обед особенныи праздничныи исключение улучшать улучшать блюдо дорогобуж можаиск дорогобуж можаиск ночь стоять можаиск\n",
      "Topic 1:\n",
      "граница монголия эвакуация тыл большии эвакуация канск обед час канск канск борович баня борович эвакуация борович баня перевязка первыи ремонт дорога продукт балезино обед плохои стоять ст балезино\n",
      "Topic 2:\n",
      "барабинск ответ жена эвакуация борович борович ответ тася часть продукт кот тася стоять парк квартира стоять письмо кот перово станция зима зима вечер час верх томочка\n",
      "Topic 3:\n",
      "вечер которыи говорить час утро идти такои давать какои работа вчера дело получать новыи письмо\n",
      "Topic 4:\n",
      "обыкновенныи госпиталь смертень месяц голодень рассказывать прибавляться голодень прибавляться месяц голодень пухня сухня пухня сухня сухня смертень пухня ожидать эшелон автор дневник проезжать курган мастерская зашивка\n",
      "Topic 5:\n",
      "ачинск красноярск ачинск рентгеновскии луч заниматься пулемет пулемет вчера курсы санинструктор сараи солома домои телеграмма перевязка апрель давать домои телеграмма перевязка станция казариновыи ярославль писать казариновыи ярославль счет дорога\n",
      "Topic 6:\n",
      "кунгур продукт октябрь погружаться вагон вичуга госпиталь смотреть цыганскии цыганскии ансамбль вичуга город вичуга ст таига томскии ст лобныи место прибыль квартира калинин старыи деревня км км калинин\n",
      "Topic 7:\n",
      "станция канск канск выезжать закат новосибирск стоять утро новосибирск мост срезать срезать свая свая лукьянов лукьянов погода погода ясныи ехать берег станция оловянныи страна терять выходить антибольшевическии антибольшевическии речь\n",
      "Topic 8:\n",
      "стоять дневальныи станция зеленыи зеленыи луг митинг концерт германия митинг константин прима сын константин км пассажирскии доходить красник красник люблин люблин км поезд люблин свидетельство аттестат документ проходнои проходнои свидетельство\n",
      "Topic 9:\n",
      "улан удэ удэ улан продукт подарок час улан город демьянск демьянск построика демьянск молоко котелок блиндаж штаб ивахновыи дер ивахновыи фронт дер шахта вечер черемхово\n"
     ]
    }
   ],
   "source": [
    "display_topics(lda, tfidf_feature_names, no_top_words)"
   ]
  }
 ],
 "metadata": {
  "kernelspec": {
   "display_name": "Python 3",
   "language": "python",
   "name": "python3"
  },
  "language_info": {
   "codemirror_mode": {
    "name": "ipython",
    "version": 3
   },
   "file_extension": ".py",
   "mimetype": "text/x-python",
   "name": "python",
   "nbconvert_exporter": "python",
   "pygments_lexer": "ipython3",
   "version": "3.6.3"
  }
 },
 "nbformat": 4,
 "nbformat_minor": 2
}
